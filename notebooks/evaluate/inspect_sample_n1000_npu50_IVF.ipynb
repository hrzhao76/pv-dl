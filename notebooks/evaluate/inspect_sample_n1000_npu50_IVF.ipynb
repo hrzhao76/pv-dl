{
 "cells": [
  {
   "cell_type": "code",
   "execution_count": 1,
   "metadata": {},
   "outputs": [],
   "source": [
    "import os, sys\n",
    "\n",
    "sys.path.append(os.path.abspath(os.path.join(\"..\", \"src\")))\n",
    "from pathlib import Path\n",
    "\n",
    "samples_folder = Path(\"../../samples\")"
   ]
  },
  {
   "cell_type": "code",
   "execution_count": 2,
   "metadata": {},
   "outputs": [],
   "source": [
    "# This notebook inspect the samples I generated for the 1000 events with 50 pileup IVF"
   ]
  },
  {
   "cell_type": "code",
   "execution_count": 3,
   "metadata": {},
   "outputs": [],
   "source": [
    "import uproot\n",
    "import mplhep as hep\n",
    "import awkward as ak\n",
    "import hist\n",
    "from matplotlib import pyplot as plt\n",
    "import numpy as np\n",
    "import pandas as pd"
   ]
  },
  {
   "cell_type": "code",
   "execution_count": 26,
   "metadata": {},
   "outputs": [],
   "source": [
    "file_path = (\n",
    "    samples_folder / \"sample/n1000_npu50_IVF/vertex_n1000_npu50_IVF.root\"\n",
    ")\n",
    "\n",
    "vertex_algo = \"IVF\""
   ]
  },
  {
   "cell_type": "code",
   "execution_count": 5,
   "metadata": {},
   "outputs": [],
   "source": [
    "file = uproot.open(file_path)"
   ]
  },
  {
   "cell_type": "code",
   "execution_count": 6,
   "metadata": {},
   "outputs": [
    {
     "data": {
      "text/plain": [
       "['ML_tracks;2', 'ML_tracks;1', 'vertexing;1']"
      ]
     },
     "execution_count": 6,
     "metadata": {},
     "output_type": "execute_result"
    }
   ],
   "source": [
    "file.keys()"
   ]
  },
  {
   "cell_type": "code",
   "execution_count": 7,
   "metadata": {},
   "outputs": [
    {
     "data": {
      "text/plain": [
       "['event_nr',\n",
       " 'reco_PriVtxX',\n",
       " 'reco_PriVtxY',\n",
       " 'reco_PriVtxZ',\n",
       " 'truth_PriVtxX',\n",
       " 'truth_PriVtxY',\n",
       " 'truth_PriVtxZ',\n",
       " 'reco_trk_fit_d0',\n",
       " 'reco_trk_fit_z0',\n",
       " 'reco_trk_fit_phi',\n",
       " 'reco_trk_fit_theta',\n",
       " 'reco_trk_fit_qop',\n",
       " 'reco_trk_fit_time',\n",
       " 'reco_trk_fit_err_d0',\n",
       " 'reco_trk_fit_err_z0',\n",
       " 'reco_trk_fit_err_phi',\n",
       " 'reco_trk_fit_err_theta',\n",
       " 'reco_trk_fit_err_qop',\n",
       " 'reco_trk_fit_err_time',\n",
       " 'reco_trk_truth_vtx_idx',\n",
       " 'reco_trk_reco_vtx_idx']"
      ]
     },
     "execution_count": 7,
     "metadata": {},
     "output_type": "execute_result"
    }
   ],
   "source": [
    "file[\"ML_tracks\"].keys()"
   ]
  },
  {
   "cell_type": "code",
   "execution_count": 8,
   "metadata": {},
   "outputs": [],
   "source": [
    "ML_tracks = file[\"ML_tracks\"].arrays()"
   ]
  },
  {
   "cell_type": "code",
   "execution_count": 9,
   "metadata": {},
   "outputs": [],
   "source": [
    "vertexing = file[\"vertexing\"].arrays()"
   ]
  },
  {
   "cell_type": "code",
   "execution_count": 10,
   "metadata": {},
   "outputs": [
    {
     "data": {
      "text/plain": [
       "['diffx',\n",
       " 'diffy',\n",
       " 'diffz',\n",
       " 'recoX',\n",
       " 'recoY',\n",
       " 'recoZ',\n",
       " 'truthX',\n",
       " 'truthY',\n",
       " 'truthZ',\n",
       " 'covXX',\n",
       " 'covYY',\n",
       " 'covXY',\n",
       " 'covYX',\n",
       " 'trkVtxMatch',\n",
       " 'nRecoVtx',\n",
       " 'nTrueVtx',\n",
       " 'nVtxDetectorAcceptance',\n",
       " 'nVtxReconstructable',\n",
       " 'timeMS']"
      ]
     },
     "execution_count": 10,
     "metadata": {},
     "output_type": "execute_result"
    }
   ],
   "source": [
    "vertexing.fields"
   ]
  },
  {
   "cell_type": "code",
   "execution_count": 11,
   "metadata": {},
   "outputs": [
    {
     "data": {
      "text/plain": [
       "1000"
      ]
     },
     "execution_count": 11,
     "metadata": {},
     "output_type": "execute_result"
    }
   ],
   "source": [
    "ak.count(ML_tracks.event_nr)"
   ]
  },
  {
   "cell_type": "code",
   "execution_count": 12,
   "metadata": {},
   "outputs": [
    {
     "data": {
      "text/plain": [
       "51097"
      ]
     },
     "execution_count": 12,
     "metadata": {},
     "output_type": "execute_result"
    }
   ],
   "source": [
    "ak.count(ML_tracks.truth_PriVtxZ)"
   ]
  },
  {
   "cell_type": "code",
   "execution_count": 13,
   "metadata": {},
   "outputs": [
    {
     "data": {
      "text/plain": [
       "False"
      ]
     },
     "execution_count": 13,
     "metadata": {},
     "output_type": "execute_result"
    }
   ],
   "source": [
    "np.all(ak.count(ML_tracks.truth_PriVtxZ, axis=1) == 50)"
   ]
  },
  {
   "cell_type": "code",
   "execution_count": 14,
   "metadata": {},
   "outputs": [
    {
     "data": {
      "text/plain": [
       "51.097"
      ]
     },
     "execution_count": 14,
     "metadata": {},
     "output_type": "execute_result"
    }
   ],
   "source": [
    "np.mean(ak.count(ML_tracks.truth_PriVtxZ, axis=1))"
   ]
  },
  {
   "cell_type": "code",
   "execution_count": 15,
   "metadata": {},
   "outputs": [],
   "source": [
    "output_path = Path(\"./n1000_npu50_IVF\")\n",
    "output_path.mkdir(\n",
    "    parents=True, exist_ok=True\n",
    ") if not output_path.exists() else None"
   ]
  },
  {
   "attachments": {},
   "cell_type": "markdown",
   "metadata": {},
   "source": [
    "# Truth Vertex distribution"
   ]
  },
  {
   "attachments": {},
   "cell_type": "markdown",
   "metadata": {},
   "source": [
    "## n truth vertex"
   ]
  },
  {
   "cell_type": "code",
   "execution_count": 16,
   "metadata": {},
   "outputs": [
    {
     "data": {
      "text/html": [
       "<html>\n",
       "<div style=\"display:flex; align-items:center;\">\n",
       "<div style=\"width:290px;\">\n",
       "<svg xmlns=\"http://www.w3.org/2000/svg\" viewBox=\"-10 -105 270 120\">\n",
       "<line x1=\"-5\" y1=\"0\" x2=\"255\" y2=\"0\" style=\"fill:none;stroke-width:2;stroke:currentColor\"/>\n",
       "<text text-anchor=\"middle\" x=\"0\" y=\"15\" style=\"fill:currentColor;\">\n",
       "30\n",
       "</text>\n",
       "<text text-anchor=\"middle\" x=\"250\" y=\"15\" style=\"fill:currentColor;\">\n",
       "70\n",
       "</text>\n",
       "<text text-anchor=\"middle\" x=\"125.0\" y=\"15\" style=\"fill:currentColor;\">\n",
       "Number of Truth Primary Vertex\n",
       "</text>\n",
       "<polyline points=\"  0,0   0,-0 6.25,-0 6.25,-0 12.5,-0 12.5,-4.62 18.75,-4.62 18.75,-3.08  25,-3.08  25,-4.62 31.25,-4.62 31.25,-7.69 37.5,-7.69 37.5,-12.3 43.75,-12.3 43.75,-10.8  50,-10.8  50,-12.3 56.25,-12.3 56.25,-10.8 62.5,-10.8 62.5,-33.8 68.75,-33.8 68.75,-44.6  75,-44.6  75,-41.5 81.25,-41.5 81.25,-36.9 87.5,-36.9 87.5,-53.8 93.75,-53.8 93.75,-55.4 100,-55.4 100,-60 106.25,-60 106.25,-66.2 112.5,-66.2 112.5,-90.8 118.75,-90.8 118.75,-83.1 125,-83.1 125,-63.1 131.25,-63.1 131.25,-100 137.5,-100 137.5,-92.3 143.75,-92.3 143.75,-84.6 150,-84.6 150,-84.6 156.25,-84.6 156.25,-95.4 162.5,-95.4 162.5,-52.3 168.75,-52.3 168.75,-53.8 175,-53.8 175,-58.5 181.25,-58.5 181.25,-33.8 187.5,-33.8 187.5,-36.9 193.75,-36.9 193.75,-35.4 200,-35.4 200,-24.6 206.25,-24.6 206.25,-23.1 212.5,-23.1 212.5,-21.5 218.75,-21.5 218.75,-9.23 225,-9.23 225,-15.4 231.25,-15.4 231.25,-1.54 237.5,-1.54 237.5,-6.15 243.75,-6.15 243.75,-3.08 250,-3.08 250,0\" style=\"fill:none; stroke:currentColor;\"/>\n",
       "</svg>\n",
       "</div>\n",
       "<div style=\"flex=grow:1;\">\n",
       "Regular(40, 30, 70, name='hist_n_truth_PriVtx', label='Number of Truth Primary Vertex')<br/>\n",
       "<hr style=\"margin-top:.2em; margin-bottom:.2em;\"/>\n",
       "Double() Σ=993.0 <em>(1000.0 with flow)</em>\n",
       "\n",
       "</div>\n",
       "</div>\n",
       "</html>"
      ],
      "text/plain": [
       "Hist(Regular(40, 30, 70, name='hist_n_truth_PriVtx', label='Number of Truth Primary Vertex'), storage=Double()) # Sum: 993.0 (1000.0 with flow)"
      ]
     },
     "execution_count": 16,
     "metadata": {},
     "output_type": "execute_result"
    }
   ],
   "source": [
    "hist_n_truth_PriVtx = hist.Hist(\n",
    "    hist.axis.Regular(\n",
    "        40,\n",
    "        30,\n",
    "        70,\n",
    "        name=\"hist_n_truth_PriVtx\",\n",
    "        label=\"Number of Truth Primary Vertex\",\n",
    "    )\n",
    ")\n",
    "hist_n_truth_PriVtx.fill(ak.count(ML_tracks.truth_PriVtxZ, axis=1))"
   ]
  },
  {
   "cell_type": "code",
   "execution_count": 17,
   "metadata": {},
   "outputs": [
    {
     "data": {
      "image/png": "[encoded data removed]",
      "text/plain": [
       "<Figure size 640x480 with 1 Axes>"
      ]
     },
     "metadata": {},
     "output_type": "display_data"
    }
   ],
   "source": [
    "fig, ax = plt.subplots()\n",
    "hep.histplot(hist_n_truth_PriVtx, density=True, histtype=\"step\")\n",
    "fig.savefig(output_path / \"hist_n_truth_PriVtx.png\")"
   ]
  },
  {
   "attachments": {},
   "cell_type": "markdown",
   "metadata": {},
   "source": [
    "## truth vertex vz"
   ]
  },
  {
   "cell_type": "code",
   "execution_count": 18,
   "metadata": {},
   "outputs": [
    {
     "data": {
      "text/html": [
       "<html>\n",
       "<div style=\"display:flex; align-items:center;\">\n",
       "<div style=\"width:290px;\">\n",
       "<svg xmlns=\"http://www.w3.org/2000/svg\" viewBox=\"-10 -105 270 120\">\n",
       "<line x1=\"-5\" y1=\"0\" x2=\"255\" y2=\"0\" style=\"fill:none;stroke-width:2;stroke:currentColor\"/>\n",
       "<text text-anchor=\"middle\" x=\"0\" y=\"15\" style=\"fill:currentColor;\">\n",
       "-200\n",
       "</text>\n",
       "<text text-anchor=\"middle\" x=\"250\" y=\"15\" style=\"fill:currentColor;\">\n",
       "200\n",
       "</text>\n",
       "<text text-anchor=\"middle\" x=\"125.0\" y=\"15\" style=\"fill:currentColor;\">\n",
       "Truth Primary Vertex Z [mm]\n",
       "</text>\n",
       "<polyline points=\"  0,0   0,-0.068 2.47525,-0.068 2.47525,-0.068 4.9505,-0.068 4.9505,-0.408 7.42574,-0.408 7.42574,-0.612 9.90099,-0.612 9.90099,-0.408 12.3762,-0.408 12.3762,-0.34 14.8515,-0.34 14.8515,-0.952 17.3267,-0.952 17.3267,-1.02 19.802,-1.02 19.802,-1.43 22.2772,-1.43 22.2772,-1.29 24.7525,-1.29 24.7525,-2.24 27.2277,-2.24 27.2277,-2.59 29.703,-2.59 29.703,-2.86 32.1782,-2.86 32.1782,-3.95 34.6535,-3.95 34.6535,-3.4 37.1287,-3.4 37.1287,-5.03 39.604,-5.03 39.604,-6.94 42.0792,-6.94 42.0792,-5.71 44.5545,-5.71 44.5545,-6.33 47.0297,-6.33 47.0297,-7.76 49.505,-7.76 49.505,-9.46 51.9802,-9.46 51.9802,-11.2 54.4554,-11.2 54.4554,-14.5 56.9307,-14.5 56.9307,-16.5 59.4059,-16.5 59.4059,-15.2 61.8812,-15.2 61.8812,-19 64.3564,-19 64.3564,-23.3 66.8317,-23.3 66.8317,-26.2 69.3069,-26.2 69.3069,-28 71.7822,-28 71.7822,-33 74.2574,-33 74.2574,-35.9 76.7327,-35.9 76.7327,-39.7 79.2079,-39.7 79.2079,-46.4 81.6832,-46.4 81.6832,-49.5 84.1584,-49.5 84.1584,-55 86.6337,-55 86.6337,-53 89.1089,-53 89.1089,-60.4 91.5842,-60.4 91.5842,-64.6 94.0594,-64.6 94.0594,-70.4 96.5347,-70.4 96.5347,-71.4 99.0099,-71.4 99.0099,-76.7 101.485,-76.7 101.485,-81 103.96,-81 103.96,-84.2 106.436,-84.2 106.436,-85.6 108.911,-85.6 108.911,-89.6 111.386,-89.6 111.386,-93.2 113.861,-93.2 113.861,-91.6 116.337,-91.6 116.337,-97.6 118.812,-97.6 118.812,-97.1 121.287,-97.1 121.287,-100 123.762,-100 123.762,-94.8 126.238,-94.8 126.238,-98.2 128.713,-98.2 128.713,-94.3 131.188,-94.3 131.188,-93.5 133.663,-93.5 133.663,-97 136.139,-97 136.139,-93.2 138.614,-93.2 138.614,-86.8 141.089,-86.8 141.089,-85 143.564,-85 143.564,-81.5 146.04,-81.5 146.04,-82.7 148.515,-82.7 148.515,-80.5 150.99,-80.5 150.99,-71.4 153.465,-71.4 153.465,-70 155.941,-70 155.941,-63.9 158.416,-63.9 158.416,-57.7 160.891,-57.7 160.891,-56.5 163.366,-56.5 163.366,-49.7 165.842,-49.7 165.842,-48.4 168.317,-48.4 168.317,-44.1 170.792,-44.1 170.792,-41.3 173.267,-41.3 173.267,-37 175.743,-37 175.743,-33.4 178.218,-33.4 178.218,-30.8 180.693,-30.8 180.693,-25 183.168,-25 183.168,-22.8 185.644,-22.8 185.644,-21.1 188.119,-21.1 188.119,-18.9 190.594,-18.9 190.594,-15.4 193.069,-15.4 193.069,-13.7 195.545,-13.7 195.545,-14.2 198.02,-14.2 198.02,-9.59 200.495,-9.59 200.495,-8.78 202.97,-8.78 202.97,-6.33 205.446,-6.33 205.446,-6.8 207.921,-6.8 207.921,-4.29 210.396,-4.29 210.396,-4.56 212.871,-4.56 212.871,-3.81 215.347,-3.81 215.347,-2.86 217.822,-2.86 217.822,-2.52 220.297,-2.52 220.297,-2.38 222.772,-2.38 222.772,-1.29 225.248,-1.29 225.248,-0.952 227.723,-0.952 227.723,-1.36 230.198,-1.36 230.198,-1.16 232.673,-1.16 232.673,-0.816 235.149,-0.816 235.149,-0.272 237.624,-0.272 237.624,-0.34 240.099,-0.34 240.099,-0.544 242.574,-0.544 242.574,-0.204 245.05,-0.204 245.05,-0.136 247.525,-0.136 247.525,-0.34 250,-0.34 250,0\" style=\"fill:none; stroke:currentColor;\"/>\n",
       "</svg>\n",
       "</div>\n",
       "<div style=\"flex=grow:1;\">\n",
       "Regular(101, -200, 200, name='hist_truth_PriVtxZ', label='Truth Primary Vertex Z [mm]')<br/>\n",
       "<hr style=\"margin-top:.2em; margin-bottom:.2em;\"/>\n",
       "Double() Σ=51079.0 <em>(51097.0 with flow)</em>\n",
       "\n",
       "</div>\n",
       "</div>\n",
       "</html>"
      ],
      "text/plain": [
       "Hist(Regular(101, -200, 200, name='hist_truth_PriVtxZ', label='Truth Primary Vertex Z [mm]'), storage=Double()) # Sum: 51079.0 (51097.0 with flow)"
      ]
     },
     "execution_count": 18,
     "metadata": {},
     "output_type": "execute_result"
    }
   ],
   "source": [
    "hist_truth_PriVtxZ = hist.Hist(\n",
    "    hist.axis.Regular(\n",
    "        101,\n",
    "        -200,\n",
    "        200,\n",
    "        name=\"hist_truth_PriVtxZ\",\n",
    "        label=\"Truth Primary Vertex Z [mm]\",\n",
    "    )\n",
    ")\n",
    "hist_truth_PriVtxZ.fill(ak.flatten(ML_tracks[\"truth_PriVtxZ\"]))"
   ]
  },
  {
   "cell_type": "code",
   "execution_count": 19,
   "metadata": {},
   "outputs": [
    {
     "name": "stdout",
     "output_type": "stream",
     "text": [
      "55.88730469023926\n"
     ]
    },
    {
     "data": {
      "image/png": "[encoded data removed]",
      "text/plain": [
       "<Figure size 640x480 with 1 Axes>"
      ]
     },
     "metadata": {},
     "output_type": "display_data"
    }
   ],
   "source": [
    "fig, axs = plt.subplots()\n",
    "hep.histplot(hist_truth_PriVtxZ, density=False, histtype=\"step\")\n",
    "print(np.std(ak.flatten(ML_tracks[\"truth_PriVtxZ\"])))\n",
    "fig.savefig(output_path / \"hist_truth_PriVtxZ.png\")"
   ]
  },
  {
   "attachments": {},
   "cell_type": "markdown",
   "metadata": {},
   "source": [
    "# Reco Vertex distribution"
   ]
  },
  {
   "attachments": {},
   "cell_type": "markdown",
   "metadata": {},
   "source": [
    "## n reco vertex"
   ]
  },
  {
   "cell_type": "code",
   "execution_count": 20,
   "metadata": {},
   "outputs": [
    {
     "data": {
      "text/html": [
       "<html>\n",
       "<div style=\"display:flex; align-items:center;\">\n",
       "<div style=\"width:290px;\">\n",
       "<svg xmlns=\"http://www.w3.org/2000/svg\" viewBox=\"-10 -105 270 120\">\n",
       "<line x1=\"-5\" y1=\"0\" x2=\"255\" y2=\"0\" style=\"fill:none;stroke-width:2;stroke:currentColor\"/>\n",
       "<text text-anchor=\"middle\" x=\"0\" y=\"15\" style=\"fill:currentColor;\">\n",
       "0\n",
       "</text>\n",
       "<text text-anchor=\"middle\" x=\"250\" y=\"15\" style=\"fill:currentColor;\">\n",
       "40\n",
       "</text>\n",
       "<text text-anchor=\"middle\" x=\"125.0\" y=\"15\" style=\"fill:currentColor;\">\n",
       "Number of Reco Primary Vertex\n",
       "</text>\n",
       "<polyline points=\"  0,0   0,-0.781 6.25,-0.781 6.25,-0 12.5,-0 12.5,-2.34 18.75,-2.34 18.75,-4.69  25,-4.69  25,-11.7 31.25,-11.7 31.25,-12.5 37.5,-12.5 37.5,-26.6 43.75,-26.6 43.75,-29.7  50,-29.7  50,-36.7 56.25,-36.7 56.25,-46.1 62.5,-46.1 62.5,-80.5 68.75,-80.5 68.75,-70.3  75,-70.3  75,-82.8 81.25,-82.8 81.25,-100 87.5,-100 87.5,-87.5 93.75,-87.5 93.75,-63.3 100,-63.3 100,-50.8 106.25,-50.8 106.25,-35.9 112.5,-35.9 112.5,-14.1 118.75,-14.1 118.75,-14.1 125,-14.1 125,-5.47 131.25,-5.47 131.25,-1.56 137.5,-1.56 137.5,-3.12 143.75,-3.12 143.75,-0.781 150,-0.781 150,-0 156.25,-0 156.25,-0 162.5,-0 162.5,-0 168.75,-0 168.75,-0 175,-0 175,-0 181.25,-0 181.25,-0 187.5,-0 187.5,-0 193.75,-0 193.75,-0 200,-0 200,-0 206.25,-0 206.25,-0 212.5,-0 212.5,-0 218.75,-0 218.75,-0 225,-0 225,-0 231.25,-0 231.25,-0 237.5,-0 237.5,-0 243.75,-0 243.75,-0 250,-0 250,0\" style=\"fill:none; stroke:currentColor;\"/>\n",
       "</svg>\n",
       "</div>\n",
       "<div style=\"flex=grow:1;\">\n",
       "Regular(40, 0, 40, name='hist_n_reco_PriVtx', label='Number of Reco Primary Vertex')<br/>\n",
       "<hr style=\"margin-top:.2em; margin-bottom:.2em;\"/>\n",
       "Double() Σ=1000.0\n",
       "\n",
       "</div>\n",
       "</div>\n",
       "</html>"
      ],
      "text/plain": [
       "Hist(Regular(40, 0, 40, name='hist_n_reco_PriVtx', label='Number of Reco Primary Vertex'), storage=Double()) # Sum: 1000.0"
      ]
     },
     "execution_count": 20,
     "metadata": {},
     "output_type": "execute_result"
    }
   ],
   "source": [
    "hist_n_reco_PriVtx = hist.Hist(\n",
    "    hist.axis.Regular(\n",
    "        40,\n",
    "        0,\n",
    "        40,\n",
    "        name=\"hist_n_reco_PriVtx\",\n",
    "        label=\"Number of Reco Primary Vertex\",\n",
    "    )\n",
    ")\n",
    "hist_n_reco_PriVtx.fill(ak.count(ML_tracks.reco_PriVtxZ, axis=1))"
   ]
  },
  {
   "cell_type": "code",
   "execution_count": 22,
   "metadata": {},
   "outputs": [
    {
     "data": {
      "image/png": "[encoded data removed]",
      "text/plain": [
       "<Figure size 640x480 with 1 Axes>"
      ]
     },
     "metadata": {},
     "output_type": "display_data"
    }
   ],
   "source": [
    "fig, ax = plt.subplots()\n",
    "hep.histplot(hist_n_reco_PriVtx, density=False, histtype=\"step\")\n",
    "fig.savefig(output_path / \"hist_n_reco_PriVtx.png\")"
   ]
  },
  {
   "attachments": {},
   "cell_type": "markdown",
   "metadata": {},
   "source": [
    "## reco vertex vz"
   ]
  },
  {
   "cell_type": "code",
   "execution_count": 23,
   "metadata": {},
   "outputs": [
    {
     "data": {
      "text/html": [
       "<html>\n",
       "<div style=\"display:flex; align-items:center;\">\n",
       "<div style=\"width:290px;\">\n",
       "<svg xmlns=\"http://www.w3.org/2000/svg\" viewBox=\"-10 -105 270 120\">\n",
       "<line x1=\"-5\" y1=\"0\" x2=\"255\" y2=\"0\" style=\"fill:none;stroke-width:2;stroke:currentColor\"/>\n",
       "<text text-anchor=\"middle\" x=\"0\" y=\"15\" style=\"fill:currentColor;\">\n",
       "-200\n",
       "</text>\n",
       "<text text-anchor=\"middle\" x=\"250\" y=\"15\" style=\"fill:currentColor;\">\n",
       "200\n",
       "</text>\n",
       "<text text-anchor=\"middle\" x=\"125.0\" y=\"15\" style=\"fill:currentColor;\">\n",
       "Reco Primary Vertex Z [mm]\n",
       "</text>\n",
       "<polyline points=\"  0,0   0,-0.261 2.47525,-0.261 2.47525,-0 4.9505,-0 4.9505,-0 7.42574,-0 7.42574,-0 9.90099,-0 9.90099,-0 12.3762,-0 12.3762,-0.261 14.8515,-0.261 14.8515,-0.261 17.3267,-0.261 17.3267,-0.522 19.802,-0.522 19.802,-0 22.2772,-0 22.2772,-0 24.7525,-0 24.7525,-0 27.2277,-0 27.2277,-0.261 29.703,-0.261 29.703,-1.04 32.1782,-1.04 32.1782,-2.35 34.6535,-2.35 34.6535,-1.57 37.1287,-1.57 37.1287,-4.96 39.604,-4.96 39.604,-4.7 42.0792,-4.7 42.0792,-6.27 44.5545,-6.27 44.5545,-4.7 47.0297,-4.7 47.0297,-5.74 49.505,-5.74 49.505,-6.53 51.9802,-6.53 51.9802,-9.4 54.4554,-9.4 54.4554,-12.3 56.9307,-12.3 56.9307,-13.6 59.4059,-13.6 59.4059,-13.1 61.8812,-13.1 61.8812,-14.4 64.3564,-14.4 64.3564,-19.1 66.8317,-19.1 66.8317,-22.7 69.3069,-22.7 69.3069,-26.9 71.7822,-26.9 71.7822,-31.1 74.2574,-31.1 74.2574,-30.3 76.7327,-30.3 76.7327,-34.7 79.2079,-34.7 79.2079,-43.1 81.6832,-43.1 81.6832,-39.2 84.1584,-39.2 84.1584,-54.3 86.6337,-54.3 86.6337,-50.1 89.1089,-50.1 89.1089,-53.3 91.5842,-53.3 91.5842,-58.5 94.0594,-58.5 94.0594,-72.1 96.5347,-72.1 96.5347,-61.6 99.0099,-61.6 99.0099,-70 101.485,-70 101.485,-75.2 103.96,-75.2 103.96,-78.9 106.436,-78.9 106.436,-79.6 108.911,-79.6 108.911,-80.9 111.386,-80.9 111.386,-89 113.861,-89 113.861,-82.5 116.337,-82.5 116.337,-84.1 118.812,-84.1 118.812,-100 121.287,-100 121.287,-86.9 123.762,-86.9 123.762,-85.9 126.238,-85.9 126.238,-86.2 128.713,-86.2 128.713,-87.5 131.188,-87.5 131.188,-85.1 133.663,-85.1 133.663,-92.7 136.139,-92.7 136.139,-86.2 138.614,-86.2 138.614,-81.7 141.089,-81.7 141.089,-80.9 143.564,-80.9 143.564,-75.7 146.04,-75.7 146.04,-79.6 148.515,-79.6 148.515,-79.6 150.99,-79.6 150.99,-63.4 153.465,-63.4 153.465,-62.4 155.941,-62.4 155.941,-61.6 158.416,-61.6 158.416,-56.7 160.891,-56.7 160.891,-48.8 163.366,-48.8 163.366,-41.8 165.842,-41.8 165.842,-41.5 168.317,-41.5 168.317,-39.9 170.792,-39.9 170.792,-34.7 173.267,-34.7 173.267,-32.9 175.743,-32.9 175.743,-27.9 178.218,-27.9 178.218,-33.2 180.693,-33.2 180.693,-23.5 183.168,-23.5 183.168,-23.5 185.644,-23.5 185.644,-17 188.119,-17 188.119,-14.4 190.594,-14.4 190.594,-13.6 193.069,-13.6 193.069,-10.2 195.545,-10.2 195.545,-12.3 198.02,-12.3 198.02,-7.83 200.495,-7.83 200.495,-7.31 202.97,-7.31 202.97,-3.66 205.446,-3.66 205.446,-5.48 207.921,-5.48 207.921,-4.44 210.396,-4.44 210.396,-5.22 212.871,-5.22 212.871,-2.61 215.347,-2.61 215.347,-0.783 217.822,-0.783 217.822,-0.783 220.297,-0.783 220.297,-0.522 222.772,-0.522 222.772,-0 225.248,-0 225.248,-0.522 227.723,-0.522 227.723,-0.522 230.198,-0.522 230.198,-0.261 232.673,-0.261 232.673,-0 235.149,-0 235.149,-0 237.624,-0 237.624,-0 240.099,-0 240.099,-0 242.574,-0 242.574,-0.522 245.05,-0.522 245.05,-0 247.525,-0 247.525,-0 250,-0 250,0\" style=\"fill:none; stroke:currentColor;\"/>\n",
       "</svg>\n",
       "</div>\n",
       "<div style=\"flex=grow:1;\">\n",
       "Regular(101, -200, 200, name='hist_reco_PriVtxZ', label='Reco Primary Vertex Z [mm]')<br/>\n",
       "<hr style=\"margin-top:.2em; margin-bottom:.2em;\"/>\n",
       "Double() Σ=12053.0 <em>(12061.0 with flow)</em>\n",
       "\n",
       "</div>\n",
       "</div>\n",
       "</html>"
      ],
      "text/plain": [
       "Hist(Regular(101, -200, 200, name='hist_reco_PriVtxZ', label='Reco Primary Vertex Z [mm]'), storage=Double()) # Sum: 12053.0 (12061.0 with flow)"
      ]
     },
     "execution_count": 23,
     "metadata": {},
     "output_type": "execute_result"
    }
   ],
   "source": [
    "hist_reco_PriVtxZ = hist.Hist(\n",
    "    hist.axis.Regular(\n",
    "        101,\n",
    "        -200,\n",
    "        200,\n",
    "        name=\"hist_reco_PriVtxZ\",\n",
    "        label=\"Reco Primary Vertex Z [mm]\",\n",
    "    )\n",
    ")\n",
    "hist_reco_PriVtxZ.fill(ak.flatten(ML_tracks[\"reco_PriVtxZ\"]))"
   ]
  },
  {
   "cell_type": "code",
   "execution_count": 24,
   "metadata": {},
   "outputs": [
    {
     "data": {
      "image/png": "[encoded data removed]",
      "text/plain": [
       "<Figure size 640x480 with 1 Axes>"
      ]
     },
     "metadata": {},
     "output_type": "display_data"
    }
   ],
   "source": [
    "fig, ax = plt.subplots()\n",
    "hep.histplot(hist_reco_PriVtxZ, density=False, histtype=\"step\")\n",
    "fig.savefig(output_path / \"hist_reco_PriVtxZ.png\")"
   ]
  },
  {
   "attachments": {},
   "cell_type": "markdown",
   "metadata": {},
   "source": [
    "# n reco vtx vs n truth vtx"
   ]
  },
  {
   "cell_type": "code",
   "execution_count": 28,
   "metadata": {},
   "outputs": [
    {
     "data": {
      "image/png": "[encoded data removed]",
      "text/plain": [
       "<Figure size 640x480 with 1 Axes>"
      ]
     },
     "metadata": {},
     "output_type": "display_data"
    }
   ],
   "source": [
    "max_value = np.max(vertexing.nTrueVtx)\n",
    "\n",
    "TH2_vtx_vs_pu = (\n",
    "    hist.Hist.new.Reg(\n",
    "        max_value,\n",
    "        0,\n",
    "        max_value,\n",
    "        name=\"num_truth_vtx\",\n",
    "        label=\"Number of truth vertex\",\n",
    "        flow=True,\n",
    "    )\n",
    "    .Reg(\n",
    "        max_value,\n",
    "        0,\n",
    "        max_value,\n",
    "        name=\"num_reco_vtx\",\n",
    "        label=\"Number of reco vertex\",\n",
    "        flow=True,\n",
    "    )\n",
    "    .Double()\n",
    ")\n",
    "TH2_vtx_vs_pu.fill(vertexing.nTrueVtx, vertexing.nRecoVtx)\n",
    "hprofile_truth_vs_reco = TH2_vtx_vs_pu.profile(\"num_reco_vtx\")\n",
    "\n",
    "\n",
    "TH2_reconstructable_vtx_vs_pu = (\n",
    "    hist.Hist.new.Reg(\n",
    "        max_value,\n",
    "        0,\n",
    "        max_value,\n",
    "        name=\"num_truth_vtx\",\n",
    "        label=\"Number of truth vertex\",\n",
    "        flow=True,\n",
    "    )\n",
    "    .Reg(\n",
    "        max_value,\n",
    "        0,\n",
    "        max_value,\n",
    "        name=\"num_reconstructable_vtx_vs_pu\",\n",
    "        label=\"Number of reconstructable vertex\",\n",
    "        flow=True,\n",
    "    )\n",
    "    .Double()\n",
    ")\n",
    "TH2_reconstructable_vtx_vs_pu.fill(\n",
    "    vertexing.nTrueVtx, vertexing.nVtxReconstructable\n",
    ")\n",
    "hprofile_reconstructable_vs_reco = TH2_reconstructable_vtx_vs_pu.profile(\n",
    "    \"num_reconstructable_vtx_vs_pu\"\n",
    ")\n",
    "\n",
    "fig, ax = plt.subplots()\n",
    "hprofile_truth_vs_reco.plot(label=vertex_algo)\n",
    "hprofile_reconstructable_vs_reco.plot(label=\"Reconstructable\")\n",
    "\n",
    "# bin_values, bin_edges = hprofile.to_numpy()\n",
    "# ax.stairs(bin_values,  bin_edges)\n",
    "ax.set_ylabel(\"Number of Reconstructed Vertex\")\n",
    "ax.set_title(f\"{vertex_algo} n1000 npu50\")\n",
    "ax.plot(\n",
    "    [max_value, 0.0],\n",
    "    [max_value, 0.0],\n",
    "    \"--\",\n",
    "    color=(0.6, 0.6, 0.6),\n",
    "    label=\"100% efficiency\",\n",
    ")\n",
    "\n",
    "ax.legend()\n",
    "ax.set_xlim(0, max_value)\n",
    "# ax.text(0.5, 0.5, f\"Mean: {hprofile.values()[0]:.2f}\", transform=ax.transAxes)\n",
    "plt.savefig(output_path / \"num_vtx_vs_pu.png\")"
   ]
  },
  {
   "attachments": {},
   "cell_type": "markdown",
   "metadata": {},
   "source": [
    "# reco vtx diff Z"
   ]
  },
  {
   "cell_type": "code",
   "execution_count": 29,
   "metadata": {},
   "outputs": [],
   "source": [
    "def calculate_differenceZ(vtx_vz: ak.highlevel.Array):\n",
    "    differenceZ = []\n",
    "    for vtx_vz_event in vtx_vz:\n",
    "        distance_all_pairs = ak.flatten(vtx_vz_event[:, None] - vtx_vz_event)\n",
    "        differenceZ.append(distance_all_pairs[distance_all_pairs != 0])\n",
    "\n",
    "    return differenceZ"
   ]
  },
  {
   "cell_type": "code",
   "execution_count": 30,
   "metadata": {},
   "outputs": [
    {
     "data": {
      "text/html": [
       "<html>\n",
       "<div style=\"display:flex; align-items:center;\">\n",
       "<div style=\"width:290px;\">\n",
       "<svg xmlns=\"http://www.w3.org/2000/svg\" viewBox=\"-10 -105 270 120\">\n",
       "<line x1=\"-5\" y1=\"0\" x2=\"255\" y2=\"0\" style=\"fill:none;stroke-width:2;stroke:currentColor\"/>\n",
       "<text text-anchor=\"middle\" x=\"0\" y=\"15\" style=\"fill:currentColor;\">\n",
       "-5\n",
       "</text>\n",
       "<text text-anchor=\"middle\" x=\"250\" y=\"15\" style=\"fill:currentColor;\">\n",
       "5\n",
       "</text>\n",
       "<text text-anchor=\"middle\" x=\"125.0\" y=\"15\" style=\"fill:currentColor;\">\n",
       "diffZ\n",
       "</text>\n",
       "<polyline points=\"  0,0   0,-91.4   5,-91.4   5,-93  10,-93  10,-95.4  15,-95.4  15,-96.5  20,-96.5  20,-94.6  25,-94.6  25,-93.7  30,-93.7  30,-97.8  35,-97.8  35,-98.5  40,-98.5  40,-97.8  45,-97.8  45,-92.8  50,-92.8  50,-94.6  55,-94.6  55,-93  60,-93  60,-93.3  65,-93.3  65,-94.8  70,-94.8  70,-95.1  75,-95.1  75,-96.2  80,-96.2  80,-96.1  85,-96.1  85,-100  90,-100  90,-93.2  95,-93.2  95,-92.5 100,-92.5 100,-94 105,-94 105,-93.5 110,-93.5 110,-92.7 115,-92.7 115,-95.5 120,-95.5 120,-94.9 125,-94.9 125,-94.9 130,-94.9 130,-95.5 135,-95.5 135,-92.7 140,-92.7 140,-93.5 145,-93.5 145,-94 150,-94 150,-92.5 155,-92.5 155,-93.2 160,-93.2 160,-100 165,-100 165,-96.1 170,-96.1 170,-96.1 175,-96.1 175,-95.1 180,-95.1 180,-94.8 185,-94.8 185,-93.3 190,-93.3 190,-93 195,-93 195,-94.6 200,-94.6 200,-92.8 205,-92.8 205,-97.8 210,-97.8 210,-98.5 215,-98.5 215,-97.8 220,-97.8 220,-93.7 225,-93.7 225,-94.6 230,-94.6 230,-96.5 235,-96.5 235,-95.4 240,-95.4 240,-93 245,-93 245,-91.4 250,-91.4 250,0\" style=\"fill:none; stroke:currentColor;\"/>\n",
       "</svg>\n",
       "</div>\n",
       "<div style=\"flex=grow:1;\">\n",
       "Regular(50, -5, 5, name='diffZ')<br/>\n",
       "<hr style=\"margin-top:.2em; margin-bottom:.2em;\"/>\n",
       "Double() Σ=131658.0 <em>(2610474.0 with flow)</em>\n",
       "\n",
       "</div>\n",
       "</div>\n",
       "</html>"
      ],
      "text/plain": [
       "Hist(Regular(50, -5, 5, name='diffZ'), storage=Double()) # Sum: 131658.0 (2610474.0 with flow)"
      ]
     },
     "execution_count": 30,
     "metadata": {},
     "output_type": "execute_result"
    }
   ],
   "source": [
    "reco_vtx_vz = ML_tracks.reco_PriVtxZ\n",
    "truth_vtx_vz = ML_tracks.truth_PriVtxZ\n",
    "\n",
    "\n",
    "### Plot the reco vtx\n",
    "hist_differenceZ = hist.Hist(\n",
    "    hist.axis.Regular(bins=50, start=-5, stop=5, name=\"diffZ\")\n",
    ")\n",
    "differenceZ = calculate_differenceZ(reco_vtx_vz)\n",
    "# flatten the list\n",
    "differenceZ = np.concatenate(differenceZ)\n",
    "hist_differenceZ.fill(differenceZ)\n",
    "# plot_hist(hist_differenceZ, output_path, output_name=f'diffZ_amvf_pu{pu_number}', pu_number = pu_number, is_truth=False)\n",
    "\n",
    "### Plot the truth vtx\n",
    "differenceZ_truth = calculate_differenceZ(truth_vtx_vz)\n",
    "hist_differenceZ_truth = hist_differenceZ.copy()\n",
    "hist_differenceZ_truth.reset()\n",
    "differenceZ_truth = np.concatenate(differenceZ_truth)\n",
    "hist_differenceZ_truth.fill(differenceZ_truth)\n",
    "# plot_hist(hist_differenceZ_truth, output_path, output_name=f'diffZ_truth_pu{pu_number}', pu_number = pu_number, is_truth=True)"
   ]
  },
  {
   "cell_type": "code",
   "execution_count": 31,
   "metadata": {},
   "outputs": [
    {
     "data": {
      "image/png": "[encoded data removed]",
      "text/plain": [
       "<Figure size 640x480 with 1 Axes>"
      ]
     },
     "metadata": {},
     "output_type": "display_data"
    }
   ],
   "source": [
    "fig, ax = plt.subplots()\n",
    "\n",
    "hep.histplot(hist_differenceZ, density=False, histtype=\"step\", label=\"Reco\")\n",
    "# hep.histplot(hist_differenceZ_truth, density=False, histtype='step', label=\"Truth\")\n",
    "ax.set_xlabel(\"Difference in Z [mm]\")\n",
    "ax.set_ylabel(\"Number of Pairs\")\n",
    "ax.legend()\n",
    "fig.savefig(output_path / \"diffZ.png\")"
   ]
  },
  {
   "attachments": {},
   "cell_type": "markdown",
   "metadata": {},
   "source": [
    "# Reco Vertex classification"
   ]
  },
  {
   "cell_type": "code",
   "execution_count": null,
   "metadata": {},
   "outputs": [],
   "source": [
    "from enum import Enum\n",
    "\n",
    "vxMatchWeight = 0.7\n",
    "cutMinTruthRecoRadialDiff = 0.1\n",
    "\n",
    "\n",
    "class VertexMatchType(Enum):\n",
    "    \"\"\"Copy the definitions here\n",
    "    https://acode-browser1.usatlas.bnl.gov/lxr/source/athena/InnerDetector/InDetValidation/InDetTruthVertexValidation/InDetTruthVertexValidation/InDetVertexTruthMatchUtils.h?v=21.9#0020\n",
    "    \"\"\"\n",
    "\n",
    "    MATCHED = 0\n",
    "    MERGED = 1\n",
    "    SPLIT = 2\n",
    "    FAKE = 3\n",
    "    DUMMY = 4\n",
    "    NTYPES = 5\n",
    "\n",
    "\n",
    "class HardScatterType(Enum):\n",
    "    \"\"\"Copy the definitions here\n",
    "    https://acode-browser1.usatlas.bnl.gov/lxr/source/athena/InnerDetector/InDetValidation/InDetTruthVertexValidation/InDetTruthVertexValidation/InDetVertexTruthMatchUtils.h?v=21.9#0030\n",
    "    \"\"\"\n",
    "\n",
    "    CLEAN = 0\n",
    "    LOWPU = 1\n",
    "    HIGHPU = 2\n",
    "    HSSPLIT = 3\n",
    "    NONE = 4\n",
    "    NHSTYPES = 5\n",
    "\n",
    "\n",
    "def classifyRecoVertex(RecoVertexMatchInfo: np.ndarray) -> list:\n",
    "    reco_vtx_type = np.zeros(VertexMatchType.NTYPES.value, dtype=int)\n",
    "    n_reco_vtx = RecoVertexMatchInfo.shape[0]\n",
    "    vtx_types = np.zeros(n_reco_vtx, dtype=int)\n",
    "\n",
    "    for reco_vtx_id in range(n_reco_vtx):\n",
    "        max_weight_idx = np.argmax(RecoVertexMatchInfo[:, :, 1][reco_vtx_id])\n",
    "        if (\n",
    "            RecoVertexMatchInfo[:, :, 1][reco_vtx_id][max_weight_idx]\n",
    "            > vxMatchWeight\n",
    "            and RecoVertexMatchInfo[:, :, 2][reco_vtx_id][max_weight_idx]\n",
    "            == Raw_RecoVertexMatchInfo[reco_vtx_id, :, 2].max()\n",
    "        ):\n",
    "            # labelled as matched/clean\n",
    "            reco_vtx_type[VertexMatchType.MATCHED.value] += 1\n",
    "            vtx_types[reco_vtx_id] = VertexMatchType.MATCHED.value\n",
    "        elif (\n",
    "            RecoVertexMatchInfo[:, :, 1][reco_vtx_id][max_weight_idx]\n",
    "            < vxMatchWeight\n",
    "            and RecoVertexMatchInfo[:, :, 2][reco_vtx_id][max_weight_idx]\n",
    "            == Raw_RecoVertexMatchInfo[reco_vtx_id, :, 2].max()\n",
    "        ):\n",
    "            # labelled as merged\n",
    "            reco_vtx_type[VertexMatchType.MERGED.value] += 1\n",
    "            vtx_types[reco_vtx_id] = VertexMatchType.MERGED.value\n",
    "        else:\n",
    "            # labelled as spilt\n",
    "            reco_vtx_type[VertexMatchType.SPLIT.value] += 1\n",
    "            vtx_types[reco_vtx_id] = VertexMatchType.SPLIT.value\n",
    "\n",
    "    return vtx_types, reco_vtx_type\n",
    "\n",
    "\n",
    "def classifyHardScatter(\n",
    "    RecoVertexMatchInfo: np.ndarray, vtx_types: dict\n",
    ") -> HardScatterType:\n",
    "    # count how many reco vtx the truth HS contributes to\n",
    "    n_contribution_from_truth_HS = np.count_nonzero(\n",
    "        RecoVertexMatchInfo[:, 0, 0]\n",
    "    )\n",
    "\n",
    "    if n_contribution_from_truth_HS == 0:\n",
    "        return HardScatterType.NONE\n",
    "    elif n_contribution_from_truth_HS == 1:\n",
    "        # find the only one reco idx that truth HS contributes to\n",
    "        reco_vtx_idx = np.flatnonzero(RecoVertexMatchInfo[:, 0, 0] != 0)[0]\n",
    "        # check if the\n",
    "        # FIXME athena uses the weights but here I use the sum of pt2\n",
    "        is_largest_contribution = reco_vtx_idx == np.argmax(\n",
    "            RecoVertexMatchInfo[reco_vtx_idx, :, 2]\n",
    "        )\n",
    "        reco_vtx_type = vtx_types[reco_vtx_idx]\n",
    "        if (\n",
    "            is_largest_contribution\n",
    "            and reco_vtx_type == VertexMatchType.MATCHED\n",
    "        ):\n",
    "            return HardScatterType.CLEAN\n",
    "        elif (\n",
    "            is_largest_contribution and reco_vtx_type == VertexMatchType.MERGED\n",
    "        ):\n",
    "            return HardScatterType.LOWPU\n",
    "        else:\n",
    "            return HardScatterType.HIGHPU\n",
    "    else:\n",
    "        # multiple reco vertices have tracks from hard-scatter\n",
    "        # count how many have hard-scatter tracks as largest contribution\n",
    "        reco_vtxs_idx = np.flatnonzero(RecoVertexMatchInfo[:, 0, 0] != 0)\n",
    "        largest_contributution_idxs = np.argmax(\n",
    "            RecoVertexMatchInfo[reco_vtxs_idx, :, 2], axis=1\n",
    "        )\n",
    "        n_largest_contribution_from_truth_HS = np.count_nonzero(\n",
    "            largest_contributution_idxs == 0\n",
    "        )\n",
    "        if n_largest_contribution_from_truth_HS == 0:\n",
    "            return HardScatterType.HIGHPU\n",
    "        elif n_largest_contribution_from_truth_HS == 1:\n",
    "            # Only one reco vtx has the largest contribution\n",
    "            # identify this reco vtx\n",
    "            reco_vtx_idx = reco_vtxs_idx[\n",
    "                np.where(largest_contributution_idxs == 0)[0][0]\n",
    "            ]\n",
    "            # take its vtx type\n",
    "            reco_vtx_type = vtx_types[reco_vtx_idx]\n",
    "            # choose the event type\n",
    "            if reco_vtx_type == VertexMatchType.MATCHED:\n",
    "                return HardScatterType.CLEAN\n",
    "            elif reco_vtx_type == VertexMatchType.MERGED:\n",
    "                return HardScatterType.LOWPU\n",
    "            else:\n",
    "                return HardScatterType.HIGHPU\n",
    "        else:\n",
    "            return HardScatterType.HSSPLIT"
   ]
  },
  {
   "cell_type": "code",
   "execution_count": null,
   "metadata": {},
   "outputs": [],
   "source": [
    "def flatten_event(event: ak.highlevel.Record):\n",
    "    \"\"\"Event base flattening and return the performance\n",
    "\n",
    "    Args:\n",
    "        event (ak.highlevel.Record): _description_\n",
    "    \"\"\"\n",
    "    reco_vtx_vz = event.reco_PriVtxZ\n",
    "    truth_vtx_vz = event.truth_PriVtxZ\n",
    "\n",
    "    n_reco_vtx = len(reco_vtx_vz)\n",
    "    n_truth_vtx = len(truth_vtx_vz)\n",
    "\n",
    "    Raw_RecoVertexMatchInfo = np.zeros(\n",
    "        (n_reco_vtx + 1, n_truth_vtx + 1, 3), dtype=float\n",
    "    )\n",
    "\n",
    "    reco_trk_dict = {}\n",
    "    for field in event.fields:\n",
    "        if not field.startswith(\"reco_trk_\"):\n",
    "            continue\n",
    "\n",
    "        if field == \"reco_trk_reco_vtx_idx\":\n",
    "            continue\n",
    "        reco_trk_dict[field] = event[field]\n",
    "\n",
    "    reco_trk_df = pd.DataFrame(reco_trk_dict)\n",
    "\n",
    "    # Calculate the pt2 of the reco track\n",
    "    reco_trk_df[\"reco_trk_fit_pt2\"] = (\n",
    "        (1.0 / reco_trk_df[\"reco_trk_fit_qop\"])\n",
    "        * np.sin(reco_trk_df[\"reco_trk_fit_theta\"])\n",
    "    ) ** 2\n",
    "\n",
    "    # Attach reco_trk_reco_vtx_idx to reco_trk_df\n",
    "    # TODO: apply for the case of multiple reco vtx of a reco track\n",
    "    reco_trk_df[\"reco_trk_reco_vtx_idx\"] = event.reco_trk_reco_vtx_idx\n",
    "\n",
    "    for trk_idx in range(len(reco_trk_df)):\n",
    "        trk = reco_trk_df.iloc[trk_idx]\n",
    "        truth_vtx_idx = int(trk[\"reco_trk_truth_vtx_idx\"])\n",
    "        reco_vtx_idx = int(trk[\"reco_trk_reco_vtx_idx\"])\n",
    "        if reco_vtx_idx == -999:\n",
    "            continue\n",
    "        elif reco_vtx_idx == -99:\n",
    "            continue\n",
    "        Raw_RecoVertexMatchInfo[reco_vtx_idx, truth_vtx_idx, 0] += 1\n",
    "        Raw_RecoVertexMatchInfo[reco_vtx_idx, truth_vtx_idx, 1] += trk[\n",
    "            \"reco_trk_fit_pt2\"\n",
    "        ]\n",
    "\n",
    "    assert np.sum(Raw_RecoVertexMatchInfo[:, :, 0]) == np.sum(\n",
    "        reco_trk_df[\"reco_trk_reco_vtx_idx\"] >= 0\n",
    "    )\n",
    "\n",
    "    RecoVertexMatchInfo = np.copy(Raw_RecoVertexMatchInfo)\n",
    "    RecoVertexMatchInfo[:, :, 1] = Raw_RecoVertexMatchInfo[\n",
    "        :, :, 1\n",
    "    ] / Raw_RecoVertexMatchInfo[:, :, 1].sum(axis=0)\n",
    "    RecoVertexMatchInfo[np.isnan(RecoVertexMatchInfo)[:, :, 1]] = 0\n",
    "\n",
    "    return RecoVertexMatchInfo"
   ]
  },
  {
   "cell_type": "code",
   "execution_count": null,
   "metadata": {},
   "outputs": [],
   "source": [
    "total_reco_vtx_type = np.zeros(VertexMatchType.NTYPES.value, dtype=int)\n",
    "total_hs_type = np.zeros(HardScatterType.NHSTYPES.value, dtype=int)\n",
    "\n",
    "for event_idx, event_nr in enumerate(ML_tracks.event_nr):\n",
    "    if event_idx % 100 == 0:\n",
    "        print(f\"Processing event {event_idx} / {len(ML_tracks.event_nr)}\")\n",
    "    event = ML_tracks[event_idx]\n",
    "    RecoVertexMatchInfo = flatten_event(event)\n",
    "    vtx_types, vtx_types = classifyRecoVertex(RecoVertexMatchInfo)\n",
    "    hs_type = classifyHardScatter(RecoVertexMatchInfo, vtx_types)\n",
    "\n",
    "    total_reco_vtx_type = total_reco_vtx_type + vtx_types\n",
    "    total_hs_type[hs_type.value] += 1"
   ]
  },
  {
   "cell_type": "code",
   "execution_count": null,
   "metadata": {},
   "outputs": [],
   "source": [
    "flatten_event(ML_tracks[1])"
   ]
  },
  {
   "cell_type": "code",
   "execution_count": null,
   "metadata": {},
   "outputs": [],
   "source": [
    "hs_type"
   ]
  },
  {
   "cell_type": "code",
   "execution_count": null,
   "metadata": {},
   "outputs": [],
   "source": [
    "ML_tracks"
   ]
  },
  {
   "cell_type": "code",
   "execution_count": null,
   "metadata": {},
   "outputs": [],
   "source": [
    "event = ML_tracks[1]\n",
    "reco_vtx_vz = event.reco_PriVtxZ\n",
    "truth_vtx_vz = event.truth_PriVtxZ\n",
    "n_reco_vtx = len(reco_vtx_vz)\n",
    "n_truth_vtx = len(truth_vtx_vz)"
   ]
  },
  {
   "cell_type": "code",
   "execution_count": null,
   "metadata": {},
   "outputs": [],
   "source": [
    "n_truth_vtx"
   ]
  },
  {
   "cell_type": "code",
   "execution_count": null,
   "metadata": {},
   "outputs": [],
   "source": [
    "reco_trk_dict = {}\n",
    "for field in event.fields:\n",
    "    if not field.startswith(\"reco_trk_\"):\n",
    "        continue\n",
    "\n",
    "    if field == \"reco_trk_reco_vtx_idx\":\n",
    "        continue\n",
    "    reco_trk_dict[field] = event[field]"
   ]
  },
  {
   "cell_type": "code",
   "execution_count": null,
   "metadata": {},
   "outputs": [],
   "source": [
    "reco_trk_df = pd.DataFrame(reco_trk_dict)"
   ]
  },
  {
   "cell_type": "code",
   "execution_count": null,
   "metadata": {},
   "outputs": [],
   "source": [
    "# Calculate the pt2 of the reco track\n",
    "reco_trk_df[\"reco_trk_fit_pt2\"] = (\n",
    "    (1.0 / reco_trk_df[\"reco_trk_fit_qop\"])\n",
    "    * np.sin(reco_trk_df[\"reco_trk_fit_theta\"])\n",
    ") ** 2\n",
    "\n",
    "# Attach reco_trk_reco_vtx_idx to reco_trk_df\n",
    "reco_trk_df[\"reco_trk_reco_vtx_idx\"] = event.reco_trk_reco_vtx_idx\n",
    "\n",
    "# TODO: apply for the case of multiple reco vtx of a reco track"
   ]
  },
  {
   "cell_type": "code",
   "execution_count": null,
   "metadata": {},
   "outputs": [],
   "source": [
    "reco_trk_df"
   ]
  },
  {
   "cell_type": "code",
   "execution_count": null,
   "metadata": {},
   "outputs": [],
   "source": [
    "Raw_RecoVertexMatchInfo = np.zeros((n_reco_vtx, n_truth_vtx, 3), dtype=float)\n",
    "\n",
    "for trk_idx in range(len(reco_trk_df)):\n",
    "    trk = reco_trk_df.iloc[trk_idx]\n",
    "    truth_vtx_idx = int(trk[\"reco_trk_truth_vtx_idx\"])\n",
    "    reco_vtx_idx = int(trk[\"reco_trk_reco_vtx_idx\"])\n",
    "    if reco_vtx_idx == -999:\n",
    "        continue\n",
    "    elif reco_vtx_idx == -99:\n",
    "        continue\n",
    "    Raw_RecoVertexMatchInfo[reco_vtx_idx, truth_vtx_idx, 0] += 1"
   ]
  },
  {
   "cell_type": "code",
   "execution_count": null,
   "metadata": {},
   "outputs": [],
   "source": []
  }
 ],
 "metadata": {
  "kernelspec": {
   "display_name": "ml",
   "language": "python",
   "name": "python3"
  },
  "language_info": {
   "codemirror_mode": {
    "name": "ipython",
    "version": 3
   },
   "file_extension": ".py",
   "mimetype": "text/x-python",
   "name": "python",
   "nbconvert_exporter": "python",
   "pygments_lexer": "ipython3",
   "version": "3.10.10"
  },
  "orig_nbformat": 4
 },
 "nbformat": 4,
 "nbformat_minor": 2
}
