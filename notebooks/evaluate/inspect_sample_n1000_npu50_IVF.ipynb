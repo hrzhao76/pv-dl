{
 "cells": [
  {
   "cell_type": "code",
   "execution_count": null,
   "metadata": {},
   "outputs": [],
   "source": [
    "import os, sys\n",
    "\n",
    "sys.path.append(os.path.abspath(os.path.join(\"..\", \"src\")))\n",
    "from pathlib import Path\n",
    "\n",
    "samples_folder = Path(\"../../samples\")"
   ]
  },
  {
   "cell_type": "code",
   "execution_count": null,
   "metadata": {},
   "outputs": [],
   "source": [
    "# This notebook inspect the samples I generated for the 1000 events with 50 pileup IVF"
   ]
  },
  {
   "cell_type": "code",
   "execution_count": null,
   "metadata": {},
   "outputs": [],
   "source": [
    "import uproot\n",
    "import mplhep as hep\n",
    "import awkward as ak\n",
    "import hist\n",
    "from matplotlib import pyplot as plt\n",
    "import numpy as np\n",
    "import pandas as pd"
   ]
  },
  {
   "cell_type": "code",
   "execution_count": null,
   "metadata": {},
   "outputs": [],
   "source": [
    "file_path = (\n",
    "    samples_folder / \"sample/n1000_npu50_IVF/vertex_n1000_npu50_IVF.root\"\n",
    ")"
   ]
  },
  {
   "cell_type": "code",
   "execution_count": null,
   "metadata": {},
   "outputs": [],
   "source": [
    "file = uproot.open(file_path)"
   ]
  },
  {
   "cell_type": "code",
   "execution_count": null,
   "metadata": {},
   "outputs": [],
   "source": [
    "file.keys()"
   ]
  },
  {
   "cell_type": "code",
   "execution_count": null,
   "metadata": {},
   "outputs": [],
   "source": [
    "file[\"ML_tracks\"].keys()"
   ]
  },
  {
   "cell_type": "code",
   "execution_count": null,
   "metadata": {},
   "outputs": [],
   "source": [
    "ML_tracks = file[\"ML_tracks\"].arrays()"
   ]
  },
  {
   "cell_type": "code",
   "execution_count": null,
   "metadata": {},
   "outputs": [],
   "source": [
    "vertexing = file[\"vertexing\"].arrays()"
   ]
  },
  {
   "cell_type": "code",
   "execution_count": null,
   "metadata": {},
   "outputs": [],
   "source": [
    "vertexing.fields"
   ]
  },
  {
   "cell_type": "code",
   "execution_count": null,
   "metadata": {},
   "outputs": [],
   "source": [
    "ak.count(ML_tracks.event_nr)"
   ]
  },
  {
   "cell_type": "code",
   "execution_count": null,
   "metadata": {},
   "outputs": [],
   "source": [
    "ak.count(ML_tracks.truth_PriVtxZ)"
   ]
  },
  {
   "cell_type": "code",
   "execution_count": null,
   "metadata": {},
   "outputs": [],
   "source": [
    "np.all(ak.count(ML_tracks.truth_PriVtxZ, axis=1) == 50)"
   ]
  },
  {
   "cell_type": "code",
   "execution_count": null,
   "metadata": {},
   "outputs": [],
   "source": [
    "np.mean(ak.count(ML_tracks.truth_PriVtxZ, axis=1))"
   ]
  },
  {
   "attachments": {},
   "cell_type": "markdown",
   "metadata": {},
   "source": [
    "# Truth Vertex distribution"
   ]
  },
  {
   "cell_type": "code",
   "execution_count": null,
   "metadata": {},
   "outputs": [],
   "source": [
    "def pdf(x, a=1 / np.sqrt(2 * np.pi), x0=0, sigma=55, offset=0):\n",
    "    return a * np.exp(-((x - x0) ** 2) / (2 * sigma**2)) + offset"
   ]
  },
  {
   "attachments": {},
   "cell_type": "markdown",
   "metadata": {},
   "source": [
    "## n truth vertex"
   ]
  },
  {
   "cell_type": "code",
   "execution_count": null,
   "metadata": {},
   "outputs": [],
   "source": [
    "hist_n_truth_PriVtx = hist.Hist(\n",
    "    hist.axis.Regular(\n",
    "        40,\n",
    "        30,\n",
    "        70,\n",
    "        name=\"hist_n_truth_PriVtx\",\n",
    "        label=\"Number of Truth Primary Vertex\",\n",
    "    )\n",
    ")\n",
    "hist_n_truth_PriVtx.fill(ak.count(ML_tracks.truth_PriVtxZ, axis=1))"
   ]
  },
  {
   "cell_type": "code",
   "execution_count": null,
   "metadata": {},
   "outputs": [],
   "source": [
    "fig, ax = plt.subplots()\n",
    "hep.histplot(hist_n_truth_PriVtx, density=True, histtype=\"step\")\n",
    "fig.savefig(\"hist_n_truth_PriVtx.png\")"
   ]
  },
  {
   "cell_type": "code",
   "execution_count": null,
   "metadata": {},
   "outputs": [],
   "source": [
    "fig, ax = plt.subplots()\n",
    "# def pdf(x, a=1 / np.sqrt(2 * np.pi), x0=50, sigma=50, offset=0):\n",
    "#     return a * np.exp(-((x - x0) ** 2) / (2 * sigma**2)) + offset\n",
    "\n",
    "hist_n_truth_PriVtx.plot_pull(func=pdf)\n",
    "fig.savefig(\"hist_n_truth_PriVtx.png\")"
   ]
  },
  {
   "attachments": {},
   "cell_type": "markdown",
   "metadata": {},
   "source": [
    "## truth vertex vz"
   ]
  },
  {
   "cell_type": "code",
   "execution_count": null,
   "metadata": {},
   "outputs": [],
   "source": [
    "hist_truth_PriVtxZ = hist.Hist(\n",
    "    hist.axis.Regular(\n",
    "        101,\n",
    "        -200,\n",
    "        200,\n",
    "        name=\"hist_truth_PriVtxZ\",\n",
    "        label=\"Truth Primary Vertex Z [mm]\",\n",
    "    )\n",
    ")\n",
    "hist_truth_PriVtxZ.fill(ak.flatten(ML_tracks[\"truth_PriVtxZ\"]))"
   ]
  },
  {
   "cell_type": "code",
   "execution_count": null,
   "metadata": {},
   "outputs": [],
   "source": [
    "fig, axs = plt.subplots()\n",
    "hep.histplot(hist_truth_PriVtxZ, density=False, histtype=\"step\")\n",
    "print(np.std(ak.flatten(ML_tracks[\"truth_PriVtxZ\"])))\n",
    "fig.savefig(\"hist_truth_PriVtxZ.png\")"
   ]
  },
  {
   "cell_type": "code",
   "execution_count": null,
   "metadata": {},
   "outputs": [],
   "source": [
    "fig, ax = plt.subplots()\n",
    "hist_truth_PriVtxZ.plot_pull(\n",
    "    func=pdf,\n",
    ")\n",
    "fig.savefig(\"hist_n_truth_PriVtx.png\")"
   ]
  },
  {
   "attachments": {},
   "cell_type": "markdown",
   "metadata": {},
   "source": [
    "# Reco Vertex distribution"
   ]
  },
  {
   "attachments": {},
   "cell_type": "markdown",
   "metadata": {},
   "source": [
    "## n reco vertex"
   ]
  },
  {
   "cell_type": "code",
   "execution_count": null,
   "metadata": {},
   "outputs": [],
   "source": [
    "hist_n_reco_PriVtx = hist.Hist(\n",
    "    hist.axis.Regular(\n",
    "        40,\n",
    "        0,\n",
    "        40,\n",
    "        name=\"hist_n_reco_PriVtx\",\n",
    "        label=\"Number of Reco Primary Vertex\",\n",
    "    )\n",
    ")\n",
    "hist_n_reco_PriVtx.fill(ak.count(ML_tracks.reco_PriVtxZ, axis=1))"
   ]
  },
  {
   "cell_type": "code",
   "execution_count": null,
   "metadata": {},
   "outputs": [],
   "source": [
    "hep.histplot(hist_n_reco_PriVtx, density=False, histtype=\"step\")"
   ]
  },
  {
   "attachments": {},
   "cell_type": "markdown",
   "metadata": {},
   "source": [
    "## reco vertex vz"
   ]
  },
  {
   "cell_type": "code",
   "execution_count": null,
   "metadata": {},
   "outputs": [],
   "source": [
    "hist_reco_PriVtxZ = hist.Hist(\n",
    "    hist.axis.Regular(\n",
    "        101,\n",
    "        -200,\n",
    "        200,\n",
    "        name=\"hist_reco_PriVtxZ\",\n",
    "        label=\"Reco Primary Vertex Z [mm]\",\n",
    "    )\n",
    ")\n",
    "hist_reco_PriVtxZ.fill(ak.flatten(ML_tracks[\"reco_PriVtxZ\"]))"
   ]
  },
  {
   "cell_type": "code",
   "execution_count": null,
   "metadata": {},
   "outputs": [],
   "source": [
    "hep.histplot(hist_reco_PriVtxZ, density=False, histtype=\"step\")"
   ]
  },
  {
   "attachments": {},
   "cell_type": "markdown",
   "metadata": {},
   "source": [
    "# n reco vtx vs n truth vtx"
   ]
  },
  {
   "cell_type": "code",
   "execution_count": null,
   "metadata": {},
   "outputs": [],
   "source": [
    "max_value = np.max(vertexing.nTrueVtx)\n",
    "\n",
    "TH2_vtx_vs_pu = (\n",
    "    hist.Hist.new.Reg(\n",
    "        max_value,\n",
    "        0,\n",
    "        max_value,\n",
    "        name=\"num_truth_vtx\",\n",
    "        label=\"Number of truth vertex\",\n",
    "        flow=True,\n",
    "    )\n",
    "    .Reg(\n",
    "        max_value,\n",
    "        0,\n",
    "        max_value,\n",
    "        name=\"num_reco_vtx\",\n",
    "        label=\"Number of reco vertex\",\n",
    "        flow=True,\n",
    "    )\n",
    "    .Double()\n",
    ")\n",
    "TH2_vtx_vs_pu.fill(vertexing.nTrueVtx, vertexing.nRecoVtx)\n",
    "hprofile_truth_vs_reco = TH2_vtx_vs_pu.profile(\"num_reco_vtx\")\n",
    "\n",
    "\n",
    "TH2_reconstructable_vtx_vs_pu = (\n",
    "    hist.Hist.new.Reg(\n",
    "        max_value,\n",
    "        0,\n",
    "        max_value,\n",
    "        name=\"num_reconstructable_vtx_vs_pu\",\n",
    "        label=\"Number of reconstructable vertex\",\n",
    "        flow=True,\n",
    "    )\n",
    "    .Reg(\n",
    "        max_value,\n",
    "        0,\n",
    "        max_value,\n",
    "        name=\"num_reco_vtx\",\n",
    "        label=\"Number of reco vertex\",\n",
    "        flow=True,\n",
    "    )\n",
    "    .Double()\n",
    ")\n",
    "TH2_reconstructable_vtx_vs_pu.fill(\n",
    "    vertexing.nVtxReconstructable, vertexing.nRecoVtx\n",
    ")\n",
    "hprofile_reconstructable_vs_reco = TH2_reconstructable_vtx_vs_pu.profile(\n",
    "    \"num_reco_vtx\"\n",
    ")\n",
    "\n",
    "fig, ax = plt.subplots()\n",
    "hprofile_truth_vs_reco.plot(label=\"IVF\")\n",
    "hprofile_reconstructable_vs_reco.plot(\n",
    "    label=\"Reconstructable\"\n",
    ")  # TODO: discuss how to draw this\n",
    "\n",
    "# bin_values, bin_edges = hprofile.to_numpy()\n",
    "# ax.stairs(bin_values,  bin_edges)\n",
    "ax.set_ylabel(\"Number of Reconstructed Vertex\")\n",
    "ax.set_title(\"IVF n1000 npu50\")\n",
    "ax.plot(\n",
    "    [max_value, 0.0],\n",
    "    [max_value, 0.0],\n",
    "    \"--\",\n",
    "    color=(0.6, 0.6, 0.6),\n",
    "    label=\"100% efficiency\",\n",
    ")\n",
    "\n",
    "ax.legend()\n",
    "ax.set_xlim(0, max_value)\n",
    "# ax.text(0.5, 0.5, f\"Mean: {hprofile.values()[0]:.2f}\", transform=ax.transAxes)\n",
    "plt.savefig(\"num_vtx_vs_pu.png\")"
   ]
  },
  {
   "attachments": {},
   "cell_type": "markdown",
   "metadata": {},
   "source": [
    "# reco vtx diff Z"
   ]
  },
  {
   "cell_type": "code",
   "execution_count": null,
   "metadata": {},
   "outputs": [],
   "source": [
    "def calculate_differenceZ(vtx_vz: ak.highlevel.Array):\n",
    "    differenceZ = []\n",
    "    for vtx_vz_event in vtx_vz:\n",
    "        distance_all_pairs = ak.flatten(vtx_vz_event[:, None] - vtx_vz_event)\n",
    "        differenceZ.append(distance_all_pairs[distance_all_pairs != 0])\n",
    "\n",
    "    return differenceZ"
   ]
  },
  {
   "cell_type": "code",
   "execution_count": null,
   "metadata": {},
   "outputs": [],
   "source": [
    "reco_vtx_vz = ML_tracks.reco_PriVtxZ\n",
    "truth_vtx_vz = ML_tracks.truth_PriVtxZ\n",
    "\n",
    "\n",
    "### Plot the reco vtx\n",
    "hist_differenceZ = hist.Hist(\n",
    "    hist.axis.Regular(bins=50, start=-5, stop=5, name=\"diffZ\")\n",
    ")\n",
    "differenceZ = calculate_differenceZ(reco_vtx_vz)\n",
    "# flatten the list\n",
    "differenceZ = np.concatenate(differenceZ)\n",
    "hist_differenceZ.fill(differenceZ)\n",
    "# plot_hist(hist_differenceZ, output_path, output_name=f'diffZ_amvf_pu{pu_number}', pu_number = pu_number, is_truth=False)\n",
    "\n",
    "### Plot the truth vtx\n",
    "differenceZ_truth = calculate_differenceZ(truth_vtx_vz)\n",
    "hist_differenceZ_truth = hist_differenceZ.copy()\n",
    "hist_differenceZ_truth.reset()\n",
    "differenceZ_truth = np.concatenate(differenceZ_truth)\n",
    "hist_differenceZ_truth.fill(differenceZ_truth)\n",
    "# plot_hist(hist_differenceZ_truth, output_path, output_name=f'diffZ_truth_pu{pu_number}', pu_number = pu_number, is_truth=True)"
   ]
  },
  {
   "cell_type": "code",
   "execution_count": null,
   "metadata": {},
   "outputs": [],
   "source": [
    "fig, ax = plt.subplots()\n",
    "\n",
    "hep.histplot(hist_differenceZ, density=False, histtype=\"step\", label=\"Reco\")\n",
    "# hep.histplot(hist_differenceZ_truth, density=False, histtype='step', label=\"Truth\")\n",
    "ax.set_xlabel(\"Difference in Z [mm]\")\n",
    "ax.set_ylabel(\"Number of Pairs\")\n",
    "ax.legend()\n",
    "fig.savefig(\"diffZ.png\")"
   ]
  },
  {
   "attachments": {},
   "cell_type": "markdown",
   "metadata": {},
   "source": [
    "# Reco Vertex classification"
   ]
  },
  {
   "cell_type": "code",
   "execution_count": null,
   "metadata": {},
   "outputs": [],
   "source": [
    "from enum import Enum\n",
    "\n",
    "vxMatchWeight = 0.7\n",
    "cutMinTruthRecoRadialDiff = 0.1\n",
    "\n",
    "\n",
    "class VertexMatchType(Enum):\n",
    "    \"\"\"Copy the definitions here\n",
    "    https://acode-browser1.usatlas.bnl.gov/lxr/source/athena/InnerDetector/InDetValidation/InDetTruthVertexValidation/InDetTruthVertexValidation/InDetVertexTruthMatchUtils.h?v=21.9#0020\n",
    "    \"\"\"\n",
    "\n",
    "    MATCHED = 0\n",
    "    MERGED = 1\n",
    "    SPLIT = 2\n",
    "    FAKE = 3\n",
    "    DUMMY = 4\n",
    "    NTYPES = 5\n",
    "\n",
    "\n",
    "class HardScatterType(Enum):\n",
    "    \"\"\"Copy the definitions here\n",
    "    https://acode-browser1.usatlas.bnl.gov/lxr/source/athena/InnerDetector/InDetValidation/InDetTruthVertexValidation/InDetTruthVertexValidation/InDetVertexTruthMatchUtils.h?v=21.9#0030\n",
    "    \"\"\"\n",
    "\n",
    "    CLEAN = 0\n",
    "    LOWPU = 1\n",
    "    HIGHPU = 2\n",
    "    HSSPLIT = 3\n",
    "    NONE = 4\n",
    "    NHSTYPES = 5\n",
    "\n",
    "\n",
    "def classifyRecoVertex(RecoVertexMatchInfo: np.ndarray) -> list:\n",
    "    reco_vtx_type = np.zeros(VertexMatchType.NTYPES.value, dtype=int)\n",
    "    n_reco_vtx = RecoVertexMatchInfo.shape[0]\n",
    "    vtx_types = np.zeros(n_reco_vtx, dtype=int)\n",
    "\n",
    "    for reco_vtx_id in range(n_reco_vtx):\n",
    "        max_weight_idx = np.argmax(RecoVertexMatchInfo[:, :, 1][reco_vtx_id])\n",
    "        if (\n",
    "            RecoVertexMatchInfo[:, :, 1][reco_vtx_id][max_weight_idx]\n",
    "            > vxMatchWeight\n",
    "            and RecoVertexMatchInfo[:, :, 2][reco_vtx_id][max_weight_idx]\n",
    "            == Raw_RecoVertexMatchInfo[reco_vtx_id, :, 2].max()\n",
    "        ):\n",
    "            # labelled as matched/clean\n",
    "            reco_vtx_type[VertexMatchType.MATCHED.value] += 1\n",
    "            vtx_types[reco_vtx_id] = VertexMatchType.MATCHED.value\n",
    "        elif (\n",
    "            RecoVertexMatchInfo[:, :, 1][reco_vtx_id][max_weight_idx]\n",
    "            < vxMatchWeight\n",
    "            and RecoVertexMatchInfo[:, :, 2][reco_vtx_id][max_weight_idx]\n",
    "            == Raw_RecoVertexMatchInfo[reco_vtx_id, :, 2].max()\n",
    "        ):\n",
    "            # labelled as merged\n",
    "            reco_vtx_type[VertexMatchType.MERGED.value] += 1\n",
    "            vtx_types[reco_vtx_id] = VertexMatchType.MERGED.value\n",
    "        else:\n",
    "            # labelled as spilt\n",
    "            reco_vtx_type[VertexMatchType.SPLIT.value] += 1\n",
    "            vtx_types[reco_vtx_id] = VertexMatchType.SPLIT.value\n",
    "\n",
    "    return vtx_types, reco_vtx_type\n",
    "\n",
    "\n",
    "def classifyHardScatter(\n",
    "    RecoVertexMatchInfo: np.ndarray, vtx_types: dict\n",
    ") -> HardScatterType:\n",
    "    # count how many reco vtx the truth HS contributes to\n",
    "    n_contribution_from_truth_HS = np.count_nonzero(\n",
    "        RecoVertexMatchInfo[:, 0, 0]\n",
    "    )\n",
    "\n",
    "    if n_contribution_from_truth_HS == 0:\n",
    "        return HardScatterType.NONE\n",
    "    elif n_contribution_from_truth_HS == 1:\n",
    "        # find the only one reco idx that truth HS contributes to\n",
    "        reco_vtx_idx = np.flatnonzero(RecoVertexMatchInfo[:, 0, 0] != 0)[0]\n",
    "        # check if the\n",
    "        # FIXME athena uses the weights but here I use the sum of pt2\n",
    "        is_largest_contribution = reco_vtx_idx == np.argmax(\n",
    "            RecoVertexMatchInfo[reco_vtx_idx, :, 2]\n",
    "        )\n",
    "        reco_vtx_type = vtx_types[reco_vtx_idx]\n",
    "        if (\n",
    "            is_largest_contribution\n",
    "            and reco_vtx_type == VertexMatchType.MATCHED\n",
    "        ):\n",
    "            return HardScatterType.CLEAN\n",
    "        elif (\n",
    "            is_largest_contribution and reco_vtx_type == VertexMatchType.MERGED\n",
    "        ):\n",
    "            return HardScatterType.LOWPU\n",
    "        else:\n",
    "            return HardScatterType.HIGHPU\n",
    "    else:\n",
    "        # multiple reco vertices have tracks from hard-scatter\n",
    "        # count how many have hard-scatter tracks as largest contribution\n",
    "        reco_vtxs_idx = np.flatnonzero(RecoVertexMatchInfo[:, 0, 0] != 0)\n",
    "        largest_contributution_idxs = np.argmax(\n",
    "            RecoVertexMatchInfo[reco_vtxs_idx, :, 2], axis=1\n",
    "        )\n",
    "        n_largest_contribution_from_truth_HS = np.count_nonzero(\n",
    "            largest_contributution_idxs == 0\n",
    "        )\n",
    "        if n_largest_contribution_from_truth_HS == 0:\n",
    "            return HardScatterType.HIGHPU\n",
    "        elif n_largest_contribution_from_truth_HS == 1:\n",
    "            # Only one reco vtx has the largest contribution\n",
    "            # identify this reco vtx\n",
    "            reco_vtx_idx = reco_vtxs_idx[\n",
    "                np.where(largest_contributution_idxs == 0)[0][0]\n",
    "            ]\n",
    "            # take its vtx type\n",
    "            reco_vtx_type = vtx_types[reco_vtx_idx]\n",
    "            # choose the event type\n",
    "            if reco_vtx_type == VertexMatchType.MATCHED:\n",
    "                return HardScatterType.CLEAN\n",
    "            elif reco_vtx_type == VertexMatchType.MERGED:\n",
    "                return HardScatterType.LOWPU\n",
    "            else:\n",
    "                return HardScatterType.HIGHPU\n",
    "        else:\n",
    "            return HardScatterType.HSSPLIT"
   ]
  },
  {
   "cell_type": "code",
   "execution_count": null,
   "metadata": {},
   "outputs": [],
   "source": [
    "def flatten_event(event: ak.highlevel.Record):\n",
    "    \"\"\"Event base flattening and return the performance\n",
    "\n",
    "    Args:\n",
    "        event (ak.highlevel.Record): _description_\n",
    "    \"\"\"\n",
    "    reco_vtx_vz = event.reco_PriVtxZ\n",
    "    truth_vtx_vz = event.truth_PriVtxZ\n",
    "\n",
    "    n_reco_vtx = len(reco_vtx_vz)\n",
    "    n_truth_vtx = len(truth_vtx_vz)\n",
    "\n",
    "    Raw_RecoVertexMatchInfo = np.zeros(\n",
    "        (n_reco_vtx + 1, n_truth_vtx + 1, 3), dtype=float\n",
    "    )\n",
    "\n",
    "    reco_trk_dict = {}\n",
    "    for field in event.fields:\n",
    "        if not field.startswith(\"reco_trk_\"):\n",
    "            continue\n",
    "\n",
    "        if field == \"reco_trk_reco_vtx_idx\":\n",
    "            continue\n",
    "        reco_trk_dict[field] = event[field]\n",
    "\n",
    "    reco_trk_df = pd.DataFrame(reco_trk_dict)\n",
    "\n",
    "    # Calculate the pt2 of the reco track\n",
    "    reco_trk_df[\"reco_trk_fit_pt2\"] = (\n",
    "        (1.0 / reco_trk_df[\"reco_trk_fit_qop\"])\n",
    "        * np.sin(reco_trk_df[\"reco_trk_fit_theta\"])\n",
    "    ) ** 2\n",
    "\n",
    "    # Attach reco_trk_reco_vtx_idx to reco_trk_df\n",
    "    # TODO: apply for the case of multiple reco vtx of a reco track\n",
    "    reco_trk_df[\"reco_trk_reco_vtx_idx\"] = event.reco_trk_reco_vtx_idx\n",
    "\n",
    "    for trk_idx in range(len(reco_trk_df)):\n",
    "        trk = reco_trk_df.iloc[trk_idx]\n",
    "        truth_vtx_idx = int(trk[\"reco_trk_truth_vtx_idx\"])\n",
    "        reco_vtx_idx = int(trk[\"reco_trk_reco_vtx_idx\"])\n",
    "        if reco_vtx_idx == -999:\n",
    "            continue\n",
    "        elif reco_vtx_idx == -99:\n",
    "            continue\n",
    "        Raw_RecoVertexMatchInfo[reco_vtx_idx, truth_vtx_idx, 0] += 1\n",
    "        Raw_RecoVertexMatchInfo[reco_vtx_idx, truth_vtx_idx, 1] += trk[\n",
    "            \"reco_trk_fit_pt2\"\n",
    "        ]\n",
    "\n",
    "    assert np.sum(Raw_RecoVertexMatchInfo[:, :, 0]) == np.sum(\n",
    "        reco_trk_df[\"reco_trk_reco_vtx_idx\"] >= 0\n",
    "    )\n",
    "\n",
    "    RecoVertexMatchInfo = np.copy(Raw_RecoVertexMatchInfo)\n",
    "    RecoVertexMatchInfo[:, :, 1] = Raw_RecoVertexMatchInfo[\n",
    "        :, :, 1\n",
    "    ] / Raw_RecoVertexMatchInfo[:, :, 1].sum(axis=0)\n",
    "    RecoVertexMatchInfo[np.isnan(RecoVertexMatchInfo)[:, :, 1]] = 0\n",
    "\n",
    "    return RecoVertexMatchInfo"
   ]
  },
  {
   "cell_type": "code",
   "execution_count": null,
   "metadata": {},
   "outputs": [],
   "source": [
    "total_reco_vtx_type = np.zeros(VertexMatchType.NTYPES.value, dtype=int)\n",
    "total_hs_type = np.zeros(HardScatterType.NHSTYPES.value, dtype=int)\n",
    "\n",
    "for event_idx, event_nr in enumerate(ML_tracks.event_nr):\n",
    "    if event_idx % 100 == 0:\n",
    "        print(f\"Processing event {event_idx} / {len(ML_tracks.event_nr)}\")\n",
    "    event = ML_tracks[event_idx]\n",
    "    RecoVertexMatchInfo = flatten_event(event)\n",
    "    vtx_types, vtx_types = classifyRecoVertex(RecoVertexMatchInfo)\n",
    "    hs_type = classifyHardScatter(RecoVertexMatchInfo, vtx_types)\n",
    "\n",
    "    total_reco_vtx_type = total_reco_vtx_type + vtx_types\n",
    "    total_hs_type[hs_type.value] += 1"
   ]
  },
  {
   "cell_type": "code",
   "execution_count": null,
   "metadata": {},
   "outputs": [],
   "source": [
    "flatten_event(ML_tracks[1])"
   ]
  },
  {
   "cell_type": "code",
   "execution_count": null,
   "metadata": {},
   "outputs": [],
   "source": [
    "hs_type"
   ]
  },
  {
   "cell_type": "code",
   "execution_count": null,
   "metadata": {},
   "outputs": [],
   "source": [
    "ML_tracks"
   ]
  },
  {
   "cell_type": "code",
   "execution_count": null,
   "metadata": {},
   "outputs": [],
   "source": [
    "event = ML_tracks[1]\n",
    "reco_vtx_vz = event.reco_PriVtxZ\n",
    "truth_vtx_vz = event.truth_PriVtxZ\n",
    "n_reco_vtx = len(reco_vtx_vz)\n",
    "n_truth_vtx = len(truth_vtx_vz)"
   ]
  },
  {
   "cell_type": "code",
   "execution_count": null,
   "metadata": {},
   "outputs": [],
   "source": [
    "n_truth_vtx"
   ]
  },
  {
   "cell_type": "code",
   "execution_count": null,
   "metadata": {},
   "outputs": [],
   "source": [
    "reco_trk_dict = {}\n",
    "for field in event.fields:\n",
    "    if not field.startswith(\"reco_trk_\"):\n",
    "        continue\n",
    "\n",
    "    if field == \"reco_trk_reco_vtx_idx\":\n",
    "        continue\n",
    "    reco_trk_dict[field] = event[field]"
   ]
  },
  {
   "cell_type": "code",
   "execution_count": null,
   "metadata": {},
   "outputs": [],
   "source": [
    "reco_trk_df = pd.DataFrame(reco_trk_dict)"
   ]
  },
  {
   "cell_type": "code",
   "execution_count": null,
   "metadata": {},
   "outputs": [],
   "source": [
    "# Calculate the pt2 of the reco track\n",
    "reco_trk_df[\"reco_trk_fit_pt2\"] = (\n",
    "    (1.0 / reco_trk_df[\"reco_trk_fit_qop\"])\n",
    "    * np.sin(reco_trk_df[\"reco_trk_fit_theta\"])\n",
    ") ** 2\n",
    "\n",
    "# Attach reco_trk_reco_vtx_idx to reco_trk_df\n",
    "reco_trk_df[\"reco_trk_reco_vtx_idx\"] = event.reco_trk_reco_vtx_idx\n",
    "\n",
    "# TODO: apply for the case of multiple reco vtx of a reco track"
   ]
  },
  {
   "cell_type": "code",
   "execution_count": null,
   "metadata": {},
   "outputs": [],
   "source": [
    "reco_trk_df"
   ]
  },
  {
   "cell_type": "code",
   "execution_count": null,
   "metadata": {},
   "outputs": [],
   "source": [
    "Raw_RecoVertexMatchInfo = np.zeros((n_reco_vtx, n_truth_vtx, 3), dtype=float)\n",
    "\n",
    "for trk_idx in range(len(reco_trk_df)):\n",
    "    trk = reco_trk_df.iloc[trk_idx]\n",
    "    truth_vtx_idx = int(trk[\"reco_trk_truth_vtx_idx\"])\n",
    "    reco_vtx_idx = int(trk[\"reco_trk_reco_vtx_idx\"])\n",
    "    if reco_vtx_idx == -999:\n",
    "        continue\n",
    "    elif reco_vtx_idx == -99:\n",
    "        continue\n",
    "    Raw_RecoVertexMatchInfo[reco_vtx_idx, truth_vtx_idx, 0] += 1"
   ]
  },
  {
   "cell_type": "code",
   "execution_count": null,
   "metadata": {},
   "outputs": [],
   "source": []
  }
 ],
 "metadata": {
  "kernelspec": {
   "display_name": "ml",
   "language": "python",
   "name": "python3"
  },
  "language_info": {
   "codemirror_mode": {
    "name": "ipython",
    "version": 3
   },
   "file_extension": ".py",
   "mimetype": "text/x-python",
   "name": "python",
   "nbconvert_exporter": "python",
   "pygments_lexer": "ipython3",
   "version": "3.10.10"
  },
  "orig_nbformat": 4
 },
 "nbformat": 4,
 "nbformat_minor": 2
}
