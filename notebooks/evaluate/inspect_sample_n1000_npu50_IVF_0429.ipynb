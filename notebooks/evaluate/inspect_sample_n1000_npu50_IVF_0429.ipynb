{
 "cells": [
  {
   "cell_type": "code",
   "execution_count": 1,
   "metadata": {},
   "outputs": [],
   "source": [
    "import os, sys\n",
    "\n",
    "sys.path.append(os.path.abspath(os.path.join(\"..\", \"src\")))\n",
    "from pathlib import Path\n",
    "\n",
    "samples_folder = Path(\"../../samples\")"
   ]
  },
  {
   "cell_type": "code",
   "execution_count": 2,
   "metadata": {},
   "outputs": [],
   "source": [
    "# This notebook inspect the samples I generated for the 1000 events with 50 pileup IVF\n",
    "# Changelog for this sample is store all the reco vertex positions and more reco track branches."
   ]
  },
  {
   "cell_type": "code",
   "execution_count": 62,
   "metadata": {},
   "outputs": [
    {
     "name": "stdout",
     "output_type": "stream",
     "text": [
      "Welcome to JupyROOT 6.28/00\n"
     ]
    }
   ],
   "source": [
    "import uproot\n",
    "import mplhep as hep\n",
    "import awkward as ak\n",
    "import hist\n",
    "from matplotlib import pyplot as plt\n",
    "import numpy as np\n",
    "import pandas as pd\n",
    "import ROOT"
   ]
  },
  {
   "cell_type": "code",
   "execution_count": 3,
   "metadata": {},
   "outputs": [],
   "source": [
    "file_path = (\n",
    "    samples_folder / \"sample/n1000_npu50_IVF/vertex_n1000_npu50_IVF_0429.root\"\n",
    ")\n",
    "\n",
    "vertex_algo = \"IVF\""
   ]
  },
  {
   "cell_type": "code",
   "execution_count": 4,
   "metadata": {},
   "outputs": [],
   "source": [
    "file = uproot.open(file_path)"
   ]
  },
  {
   "cell_type": "code",
   "execution_count": 5,
   "metadata": {},
   "outputs": [
    {
     "data": {
      "text/plain": [
       "['event_nr',\n",
       " 'reco_PriVtxX',\n",
       " 'reco_PriVtxY',\n",
       " 'reco_PriVtxZ',\n",
       " 'truth_PriVtxX',\n",
       " 'truth_PriVtxY',\n",
       " 'truth_PriVtxZ',\n",
       " 'reco_trk_d0',\n",
       " 'reco_trk_z0',\n",
       " 'reco_trk_phi',\n",
       " 'reco_trk_theta',\n",
       " 'reco_trk_qop',\n",
       " 'reco_trk_time',\n",
       " 'reco_trk_err_d0',\n",
       " 'reco_trk_err_z0',\n",
       " 'reco_trk_err_phi',\n",
       " 'reco_trk_err_theta',\n",
       " 'reco_trk_err_qop',\n",
       " 'reco_trk_err_time',\n",
       " 'reco_trk_truth_particle_match_prob',\n",
       " 'reco_trk_truth_particle_match_Id',\n",
       " 'reco_trk_reco_vtx_chi2Track',\n",
       " 'reco_trk_reco_vtx_ndf',\n",
       " 'reco_trk_reco_vtx_vertexCompatibility',\n",
       " 'reco_trk_reco_vtx_trackWeight',\n",
       " 'reco_trk_truth_vtx_idx',\n",
       " 'reco_trk_reco_vtx_idx']"
      ]
     },
     "execution_count": 5,
     "metadata": {},
     "output_type": "execute_result"
    }
   ],
   "source": [
    "file[\"ML_tracks\"].keys()"
   ]
  },
  {
   "cell_type": "code",
   "execution_count": 6,
   "metadata": {},
   "outputs": [],
   "source": [
    "ML_tracks = file[\"ML_tracks\"].arrays()\n",
    "vertexing = file[\"vertexing\"].arrays()"
   ]
  },
  {
   "cell_type": "code",
   "execution_count": 14,
   "metadata": {},
   "outputs": [
    {
     "data": {
      "text/plain": [
       "51.097"
      ]
     },
     "execution_count": 14,
     "metadata": {},
     "output_type": "execute_result"
    }
   ],
   "source": [
    "np.mean(ak.count(ML_tracks.truth_PriVtxZ, axis=1))"
   ]
  },
  {
   "cell_type": "code",
   "execution_count": 15,
   "metadata": {},
   "outputs": [],
   "source": [
    "output_path = Path(\"./n1000_npu50_IVF_0429\")\n",
    "output_path.mkdir(\n",
    "    parents=True, exist_ok=True\n",
    ") if not output_path.exists() else None"
   ]
  },
  {
   "attachments": {},
   "cell_type": "markdown",
   "metadata": {},
   "source": [
    "# Truth Vertex distribution"
   ]
  },
  {
   "attachments": {},
   "cell_type": "markdown",
   "metadata": {},
   "source": [
    "## n truth vertex"
   ]
  },
  {
   "cell_type": "code",
   "execution_count": 16,
   "metadata": {},
   "outputs": [
    {
     "data": {
      "text/html": [
       "<html>\n",
       "<div style=\"display:flex; align-items:center;\">\n",
       "<div style=\"width:290px;\">\n",
       "<svg xmlns=\"http://www.w3.org/2000/svg\" viewBox=\"-10 -105 270 120\">\n",
       "<line x1=\"-5\" y1=\"0\" x2=\"255\" y2=\"0\" style=\"fill:none;stroke-width:2;stroke:currentColor\"/>\n",
       "<text text-anchor=\"middle\" x=\"0\" y=\"15\" style=\"fill:currentColor;\">\n",
       "30\n",
       "</text>\n",
       "<text text-anchor=\"middle\" x=\"250\" y=\"15\" style=\"fill:currentColor;\">\n",
       "70\n",
       "</text>\n",
       "<text text-anchor=\"middle\" x=\"125.0\" y=\"15\" style=\"fill:currentColor;\">\n",
       "Number of Truth Primary Vertex\n",
       "</text>\n",
       "<polyline points=\"  0,0   0,-0 6.25,-0 6.25,-0 12.5,-0 12.5,-4.62 18.75,-4.62 18.75,-3.08  25,-3.08  25,-4.62 31.25,-4.62 31.25,-7.69 37.5,-7.69 37.5,-12.3 43.75,-12.3 43.75,-10.8  50,-10.8  50,-12.3 56.25,-12.3 56.25,-10.8 62.5,-10.8 62.5,-33.8 68.75,-33.8 68.75,-44.6  75,-44.6  75,-41.5 81.25,-41.5 81.25,-36.9 87.5,-36.9 87.5,-53.8 93.75,-53.8 93.75,-55.4 100,-55.4 100,-60 106.25,-60 106.25,-66.2 112.5,-66.2 112.5,-90.8 118.75,-90.8 118.75,-83.1 125,-83.1 125,-63.1 131.25,-63.1 131.25,-100 137.5,-100 137.5,-92.3 143.75,-92.3 143.75,-84.6 150,-84.6 150,-84.6 156.25,-84.6 156.25,-95.4 162.5,-95.4 162.5,-52.3 168.75,-52.3 168.75,-53.8 175,-53.8 175,-58.5 181.25,-58.5 181.25,-33.8 187.5,-33.8 187.5,-36.9 193.75,-36.9 193.75,-35.4 200,-35.4 200,-24.6 206.25,-24.6 206.25,-23.1 212.5,-23.1 212.5,-21.5 218.75,-21.5 218.75,-9.23 225,-9.23 225,-15.4 231.25,-15.4 231.25,-1.54 237.5,-1.54 237.5,-6.15 243.75,-6.15 243.75,-3.08 250,-3.08 250,0\" style=\"fill:none; stroke:currentColor;\"/>\n",
       "</svg>\n",
       "</div>\n",
       "<div style=\"flex=grow:1;\">\n",
       "Regular(40, 30, 70, name='hist_n_truth_PriVtx', label='Number of Truth Primary Vertex')<br/>\n",
       "<hr style=\"margin-top:.2em; margin-bottom:.2em;\"/>\n",
       "Double() Σ=993.0 <em>(1000.0 with flow)</em>\n",
       "\n",
       "</div>\n",
       "</div>\n",
       "</html>"
      ],
      "text/plain": [
       "Hist(Regular(40, 30, 70, name='hist_n_truth_PriVtx', label='Number of Truth Primary Vertex'), storage=Double()) # Sum: 993.0 (1000.0 with flow)"
      ]
     },
     "execution_count": 16,
     "metadata": {},
     "output_type": "execute_result"
    }
   ],
   "source": [
    "hist_n_truth_PriVtx = hist.Hist(\n",
    "    hist.axis.Regular(\n",
    "        40,\n",
    "        30,\n",
    "        70,\n",
    "        name=\"hist_n_truth_PriVtx\",\n",
    "        label=\"Number of Truth Primary Vertex\",\n",
    "    )\n",
    ")\n",
    "hist_n_truth_PriVtx.fill(ak.count(ML_tracks.truth_PriVtxZ, axis=1))"
   ]
  },
  {
   "cell_type": "code",
   "execution_count": 17,
   "metadata": {},
   "outputs": [
    {
     "data": {
      "image/png": "[encoded data removed]",
      "text/plain": [
       "<Figure size 640x480 with 1 Axes>"
      ]
     },
     "metadata": {},
     "output_type": "display_data"
    }
   ],
   "source": [
    "fig, ax = plt.subplots()\n",
    "hep.histplot(hist_n_truth_PriVtx, density=True, histtype=\"step\")\n",
    "fig.savefig(output_path / \"hist_n_truth_PriVtx.png\")"
   ]
  },
  {
   "attachments": {},
   "cell_type": "markdown",
   "metadata": {},
   "source": [
    "## truth vertex vz"
   ]
  },
  {
   "cell_type": "code",
   "execution_count": 18,
   "metadata": {},
   "outputs": [
    {
     "data": {
      "text/html": [
       "<html>\n",
       "<div style=\"display:flex; align-items:center;\">\n",
       "<div style=\"width:290px;\">\n",
       "<svg xmlns=\"http://www.w3.org/2000/svg\" viewBox=\"-10 -105 270 120\">\n",
       "<line x1=\"-5\" y1=\"0\" x2=\"255\" y2=\"0\" style=\"fill:none;stroke-width:2;stroke:currentColor\"/>\n",
       "<text text-anchor=\"middle\" x=\"0\" y=\"15\" style=\"fill:currentColor;\">\n",
       "-200\n",
       "</text>\n",
       "<text text-anchor=\"middle\" x=\"250\" y=\"15\" style=\"fill:currentColor;\">\n",
       "200\n",
       "</text>\n",
       "<text text-anchor=\"middle\" x=\"125.0\" y=\"15\" style=\"fill:currentColor;\">\n",
       "Truth Primary Vertex Z [mm]\n",
       "</text>\n",
       "<polyline points=\"  0,0   0,-0.068 2.47525,-0.068 2.47525,-0.068 4.9505,-0.068 4.9505,-0.408 7.42574,-0.408 7.42574,-0.612 9.90099,-0.612 9.90099,-0.408 12.3762,-0.408 12.3762,-0.34 14.8515,-0.34 14.8515,-0.952 17.3267,-0.952 17.3267,-1.02 19.802,-1.02 19.802,-1.43 22.2772,-1.43 22.2772,-1.29 24.7525,-1.29 24.7525,-2.24 27.2277,-2.24 27.2277,-2.58 29.703,-2.58 29.703,-2.86 32.1782,-2.86 32.1782,-3.87 34.6535,-3.87 34.6535,-3.4 37.1287,-3.4 37.1287,-5.03 39.604,-5.03 39.604,-6.93 42.0792,-6.93 42.0792,-5.71 44.5545,-5.71 44.5545,-6.39 47.0297,-6.39 47.0297,-7.75 49.505,-7.75 49.505,-9.45 51.9802,-9.45 51.9802,-11.1 54.4554,-11.1 54.4554,-14.5 56.9307,-14.5 56.9307,-16.6 59.4059,-16.6 59.4059,-15.1 61.8812,-15.1 61.8812,-19 64.3564,-19 64.3564,-23.2 66.8317,-23.2 66.8317,-26.2 69.3069,-26.2 69.3069,-28 71.7822,-28 71.7822,-33.1 74.2574,-33.1 74.2574,-36 76.7327,-36 76.7327,-39.6 79.2079,-39.6 79.2079,-46.4 81.6832,-46.4 81.6832,-49.4 84.1584,-49.4 84.1584,-54.9 86.6337,-54.9 86.6337,-52.9 89.1089,-52.9 89.1089,-60.5 91.5842,-60.5 91.5842,-64.4 94.0594,-64.4 94.0594,-70.4 96.5347,-70.4 96.5347,-71.2 99.0099,-71.2 99.0099,-77 101.485,-77 101.485,-81 103.96,-81 103.96,-84.2 106.436,-84.2 106.436,-85.7 108.911,-85.7 108.911,-89.7 111.386,-89.7 111.386,-93.1 113.861,-93.1 113.861,-91.5 116.337,-91.5 116.337,-97.3 118.812,-97.3 118.812,-96.9 121.287,-96.9 121.287,-100 123.762,-100 123.762,-94.8 126.238,-94.8 126.238,-98.2 128.713,-98.2 128.713,-94.3 131.188,-94.3 131.188,-93.3 133.663,-93.3 133.663,-96.9 136.139,-96.9 136.139,-93.3 138.614,-93.3 138.614,-86.7 141.089,-86.7 141.089,-85 143.564,-85 143.564,-81.2 146.04,-81.2 146.04,-82.7 148.515,-82.7 148.515,-80.6 150.99,-80.6 150.99,-71.4 153.465,-71.4 153.465,-69.9 155.941,-69.9 155.941,-63.8 158.416,-63.8 158.416,-57.6 160.891,-57.6 160.891,-56.4 163.366,-56.4 163.366,-49.6 165.842,-49.6 165.842,-48.3 168.317,-48.3 168.317,-44.1 170.792,-44.1 170.792,-41.3 173.267,-41.3 173.267,-37 175.743,-37 175.743,-33.3 178.218,-33.3 178.218,-30.7 180.693,-30.7 180.693,-24.9 183.168,-24.9 183.168,-22.7 185.644,-22.7 185.644,-21.1 188.119,-21.1 188.119,-19 190.594,-19 190.594,-15.4 193.069,-15.4 193.069,-13.7 195.545,-13.7 195.545,-14.2 198.02,-14.2 198.02,-9.59 200.495,-9.59 200.495,-8.77 202.97,-8.77 202.97,-6.32 205.446,-6.32 205.446,-6.8 207.921,-6.8 207.921,-4.35 210.396,-4.35 210.396,-4.55 212.871,-4.55 212.871,-3.81 215.347,-3.81 215.347,-2.86 217.822,-2.86 217.822,-2.52 220.297,-2.52 220.297,-2.38 222.772,-2.38 222.772,-1.29 225.248,-1.29 225.248,-0.952 227.723,-0.952 227.723,-1.36 230.198,-1.36 230.198,-1.16 232.673,-1.16 232.673,-0.816 235.149,-0.816 235.149,-0.272 237.624,-0.272 237.624,-0.34 240.099,-0.34 240.099,-0.544 242.574,-0.544 242.574,-0.204 245.05,-0.204 245.05,-0.136 247.525,-0.136 247.525,-0.34 250,-0.34 250,0\" style=\"fill:none; stroke:currentColor;\"/>\n",
       "</svg>\n",
       "</div>\n",
       "<div style=\"flex=grow:1;\">\n",
       "Regular(101, -200, 200, name='hist_truth_PriVtxZ', label='Truth Primary Vertex Z [mm]')<br/>\n",
       "<hr style=\"margin-top:.2em; margin-bottom:.2em;\"/>\n",
       "Double() Σ=51079.0 <em>(51097.0 with flow)</em>\n",
       "\n",
       "</div>\n",
       "</div>\n",
       "</html>"
      ],
      "text/plain": [
       "Hist(Regular(101, -200, 200, name='hist_truth_PriVtxZ', label='Truth Primary Vertex Z [mm]'), storage=Double()) # Sum: 51079.0 (51097.0 with flow)"
      ]
     },
     "execution_count": 18,
     "metadata": {},
     "output_type": "execute_result"
    }
   ],
   "source": [
    "hist_truth_PriVtxZ = hist.Hist(\n",
    "    hist.axis.Regular(\n",
    "        101,\n",
    "        -200,\n",
    "        200,\n",
    "        name=\"hist_truth_PriVtxZ\",\n",
    "        label=\"Truth Primary Vertex Z [mm]\",\n",
    "    )\n",
    ")\n",
    "hist_truth_PriVtxZ.fill(ak.flatten(ML_tracks[\"truth_PriVtxZ\"]))"
   ]
  },
  {
   "cell_type": "code",
   "execution_count": 19,
   "metadata": {},
   "outputs": [
    {
     "name": "stdout",
     "output_type": "stream",
     "text": [
      "55.88865415291081\n"
     ]
    },
    {
     "data": {
      "image/png": "[encoded data removed]",
      "text/plain": [
       "<Figure size 640x480 with 1 Axes>"
      ]
     },
     "metadata": {},
     "output_type": "display_data"
    }
   ],
   "source": [
    "fig, axs = plt.subplots()\n",
    "hep.histplot(hist_truth_PriVtxZ, density=False, histtype=\"step\")\n",
    "print(np.std(ak.flatten(ML_tracks[\"truth_PriVtxZ\"])))\n",
    "fig.savefig(output_path / \"hist_truth_PriVtxZ.png\")"
   ]
  },
  {
   "attachments": {},
   "cell_type": "markdown",
   "metadata": {},
   "source": [
    "# Reco Vertex distribution"
   ]
  },
  {
   "cell_type": "code",
   "execution_count": 20,
   "metadata": {},
   "outputs": [],
   "source": [
    "assert np.all(vertexing.nRecoVtx == ak.count(ML_tracks.reco_PriVtxZ, axis=1))"
   ]
  },
  {
   "attachments": {},
   "cell_type": "markdown",
   "metadata": {},
   "source": [
    "## n reco vertex"
   ]
  },
  {
   "cell_type": "code",
   "execution_count": 21,
   "metadata": {},
   "outputs": [
    {
     "data": {
      "text/html": [
       "<html>\n",
       "<div style=\"display:flex; align-items:center;\">\n",
       "<div style=\"width:290px;\">\n",
       "<svg xmlns=\"http://www.w3.org/2000/svg\" viewBox=\"-10 -105 270 120\">\n",
       "<line x1=\"-5\" y1=\"0\" x2=\"255\" y2=\"0\" style=\"fill:none;stroke-width:2;stroke:currentColor\"/>\n",
       "<text text-anchor=\"middle\" x=\"0\" y=\"15\" style=\"fill:currentColor;\">\n",
       "0\n",
       "</text>\n",
       "<text text-anchor=\"middle\" x=\"250\" y=\"15\" style=\"fill:currentColor;\">\n",
       "40\n",
       "</text>\n",
       "<text text-anchor=\"middle\" x=\"125.0\" y=\"15\" style=\"fill:currentColor;\">\n",
       "Number of Reco Primary Vertex\n",
       "</text>\n",
       "<polyline points=\"  0,0   0,-0 6.25,-0 6.25,-1.23 12.5,-1.23 12.5,-3.7 18.75,-3.7 18.75,-7.41  25,-7.41  25,-16 31.25,-16 31.25,-12.3 37.5,-12.3 37.5,-42 43.75,-42 43.75,-25.9  50,-25.9  50,-50.6 56.25,-50.6 56.25,-54.3 62.5,-54.3 62.5,-63 68.75,-63 68.75,-67.9  75,-67.9  75,-84 81.25,-84 81.25,-88.9 87.5,-88.9 87.5,-84 93.75,-84 93.75,-100 100,-100 100,-93.8 106.25,-93.8 106.25,-61.7 112.5,-61.7 112.5,-85.2 118.75,-85.2 118.75,-76.5 125,-76.5 125,-61.7 131.25,-61.7 131.25,-42 137.5,-42 137.5,-33.3 143.75,-33.3 143.75,-23.5 150,-23.5 150,-14.8 156.25,-14.8 156.25,-14.8 162.5,-14.8 162.5,-8.64 168.75,-8.64 168.75,-7.41 175,-7.41 175,-3.7 181.25,-3.7 181.25,-3.7 187.5,-3.7 187.5,-1.23 193.75,-1.23 193.75,-0 200,-0 200,-0 206.25,-0 206.25,-0 212.5,-0 212.5,-1.23 218.75,-1.23 218.75,-0 225,-0 225,-0 231.25,-0 231.25,-0 237.5,-0 237.5,-0 243.75,-0 243.75,-0 250,-0 250,0\" style=\"fill:none; stroke:currentColor;\"/>\n",
       "</svg>\n",
       "</div>\n",
       "<div style=\"flex=grow:1;\">\n",
       "Regular(40, 0, 40, name='hist_n_reco_PriVtx', label='Number of Reco Primary Vertex')<br/>\n",
       "<hr style=\"margin-top:.2em; margin-bottom:.2em;\"/>\n",
       "Double() Σ=1000.0\n",
       "\n",
       "</div>\n",
       "</div>\n",
       "</html>"
      ],
      "text/plain": [
       "Hist(Regular(40, 0, 40, name='hist_n_reco_PriVtx', label='Number of Reco Primary Vertex'), storage=Double()) # Sum: 1000.0"
      ]
     },
     "execution_count": 21,
     "metadata": {},
     "output_type": "execute_result"
    }
   ],
   "source": [
    "hist_n_reco_PriVtx = hist.Hist(\n",
    "    hist.axis.Regular(\n",
    "        40,\n",
    "        0,\n",
    "        40,\n",
    "        name=\"hist_n_reco_PriVtx\",\n",
    "        label=\"Number of Reco Primary Vertex\",\n",
    "    )\n",
    ")\n",
    "hist_n_reco_PriVtx.fill(ak.count(ML_tracks.reco_PriVtxZ, axis=1))"
   ]
  },
  {
   "cell_type": "code",
   "execution_count": 22,
   "metadata": {},
   "outputs": [
    {
     "data": {
      "image/png": "[encoded data removed]",
      "text/plain": [
       "<Figure size 640x480 with 1 Axes>"
      ]
     },
     "metadata": {},
     "output_type": "display_data"
    }
   ],
   "source": [
    "fig, ax = plt.subplots()\n",
    "hep.histplot(hist_n_reco_PriVtx, density=False, histtype=\"step\")\n",
    "fig.savefig(output_path / \"hist_n_reco_PriVtx.png\")"
   ]
  },
  {
   "attachments": {},
   "cell_type": "markdown",
   "metadata": {},
   "source": [
    "## reco vertex vz"
   ]
  },
  {
   "cell_type": "code",
   "execution_count": 23,
   "metadata": {},
   "outputs": [
    {
     "data": {
      "text/html": [
       "<html>\n",
       "<div style=\"display:flex; align-items:center;\">\n",
       "<div style=\"width:290px;\">\n",
       "<svg xmlns=\"http://www.w3.org/2000/svg\" viewBox=\"-10 -105 270 120\">\n",
       "<line x1=\"-5\" y1=\"0\" x2=\"255\" y2=\"0\" style=\"fill:none;stroke-width:2;stroke:currentColor\"/>\n",
       "<text text-anchor=\"middle\" x=\"0\" y=\"15\" style=\"fill:currentColor;\">\n",
       "-200\n",
       "</text>\n",
       "<text text-anchor=\"middle\" x=\"250\" y=\"15\" style=\"fill:currentColor;\">\n",
       "200\n",
       "</text>\n",
       "<text text-anchor=\"middle\" x=\"125.0\" y=\"15\" style=\"fill:currentColor;\">\n",
       "Reco Primary Vertex Z [mm]\n",
       "</text>\n",
       "<polyline points=\"  0,0   0,-0.221 2.47525,-0.221 2.47525,-0 4.9505,-0 4.9505,-0.221 7.42574,-0.221 7.42574,-0.221 9.90099,-0.221 9.90099,-0.221 12.3762,-0.221 12.3762,-0.221 14.8515,-0.221 14.8515,-0.221 17.3267,-0.221 17.3267,-0.664 19.802,-0.664 19.802,-0 22.2772,-0 22.2772,-0 24.7525,-0 24.7525,-0.442 27.2277,-0.442 27.2277,-1.11 29.703,-1.11 29.703,-1.77 32.1782,-1.77 32.1782,-2.65 34.6535,-2.65 34.6535,-1.77 37.1287,-1.77 37.1287,-5.09 39.604,-5.09 39.604,-5.09 42.0792,-5.09 42.0792,-6.64 44.5545,-6.64 44.5545,-5.97 47.0297,-5.97 47.0297,-5.31 49.505,-5.31 49.505,-6.64 51.9802,-6.64 51.9802,-10.2 54.4554,-10.2 54.4554,-12.2 56.9307,-12.2 56.9307,-13.7 59.4059,-13.7 59.4059,-13.1 61.8812,-13.1 61.8812,-15.7 64.3564,-15.7 64.3564,-19.5 66.8317,-19.5 66.8317,-24.3 69.3069,-24.3 69.3069,-25.7 71.7822,-25.7 71.7822,-33 74.2574,-33 74.2574,-32.1 76.7327,-32.1 76.7327,-36.1 79.2079,-36.1 79.2079,-43.4 81.6832,-43.4 81.6832,-39.6 84.1584,-39.6 84.1584,-52.2 86.6337,-52.2 86.6337,-50.4 89.1089,-50.4 89.1089,-53.3 91.5842,-53.3 91.5842,-60.6 94.0594,-60.6 94.0594,-73.2 96.5347,-73.2 96.5347,-63.9 99.0099,-63.9 99.0099,-73.9 101.485,-73.9 101.485,-78.8 103.96,-78.8 103.96,-80.8 106.436,-80.8 106.436,-85.6 108.911,-85.6 108.911,-81.9 111.386,-81.9 111.386,-94.7 113.861,-94.7 113.861,-85.4 116.337,-85.4 116.337,-89.2 118.812,-89.2 118.812,-100 121.287,-100 121.287,-88.5 123.762,-88.5 123.762,-91.6 126.238,-91.6 126.238,-86.7 128.713,-86.7 128.713,-92.7 131.188,-92.7 131.188,-84.3 133.663,-84.3 133.663,-96.2 136.139,-96.2 136.139,-87.6 138.614,-87.6 138.614,-85.4 141.089,-85.4 141.089,-81 143.564,-81 143.564,-77.4 146.04,-77.4 146.04,-80.1 148.515,-80.1 148.515,-80.5 150.99,-80.5 150.99,-63.5 153.465,-63.5 153.465,-67.3 155.941,-67.3 155.941,-60.4 158.416,-60.4 158.416,-57.1 160.891,-57.1 160.891,-47.6 163.366,-47.6 163.366,-41.6 165.842,-41.6 165.842,-44.2 168.317,-44.2 168.317,-40 170.792,-40 170.792,-35.2 173.267,-35.2 173.267,-32.5 175.743,-32.5 175.743,-27.4 178.218,-27.4 178.218,-32.5 180.693,-32.5 180.693,-23 183.168,-23 183.168,-23.5 185.644,-23.5 185.644,-17 188.119,-17 188.119,-15 190.594,-15 190.594,-13.1 193.069,-13.1 193.069,-10.8 195.545,-10.8 195.545,-12.2 198.02,-12.2 198.02,-8.41 200.495,-8.41 200.495,-6.86 202.97,-6.86 202.97,-4.65 205.446,-4.65 205.446,-6.42 207.921,-6.42 207.921,-4.87 210.396,-4.87 210.396,-5.53 212.871,-5.53 212.871,-2.88 215.347,-2.88 215.347,-1.77 217.822,-1.77 217.822,-1.33 220.297,-1.33 220.297,-0.442 222.772,-0.442 222.772,-0.664 225.248,-0.664 225.248,-0.664 227.723,-0.664 227.723,-1.11 230.198,-1.11 230.198,-0.221 232.673,-0.221 232.673,-0.221 235.149,-0.221 235.149,-0.442 237.624,-0.442 237.624,-0 240.099,-0 240.099,-0.664 242.574,-0.664 242.574,-0.442 245.05,-0.442 245.05,-0 247.525,-0 247.525,-0.221 250,-0.221 250,0\" style=\"fill:none; stroke:currentColor;\"/>\n",
       "</svg>\n",
       "</div>\n",
       "<div style=\"flex=grow:1;\">\n",
       "Regular(101, -200, 200, name='hist_reco_PriVtxZ', label='Reco Primary Vertex Z [mm]')<br/>\n",
       "<hr style=\"margin-top:.2em; margin-bottom:.2em;\"/>\n",
       "Double() Σ=14602.0 <em>(14634.0 with flow)</em>\n",
       "\n",
       "</div>\n",
       "</div>\n",
       "</html>"
      ],
      "text/plain": [
       "Hist(Regular(101, -200, 200, name='hist_reco_PriVtxZ', label='Reco Primary Vertex Z [mm]'), storage=Double()) # Sum: 14602.0 (14634.0 with flow)"
      ]
     },
     "execution_count": 23,
     "metadata": {},
     "output_type": "execute_result"
    }
   ],
   "source": [
    "hist_reco_PriVtxZ = hist.Hist(\n",
    "    hist.axis.Regular(\n",
    "        101,\n",
    "        -200,\n",
    "        200,\n",
    "        name=\"hist_reco_PriVtxZ\",\n",
    "        label=\"Reco Primary Vertex Z [mm]\",\n",
    "    )\n",
    ")\n",
    "hist_reco_PriVtxZ.fill(ak.flatten(ML_tracks[\"reco_PriVtxZ\"]))"
   ]
  },
  {
   "cell_type": "code",
   "execution_count": 24,
   "metadata": {},
   "outputs": [
    {
     "data": {
      "image/png": "[encoded data removed]",
      "text/plain": [
       "<Figure size 640x480 with 1 Axes>"
      ]
     },
     "metadata": {},
     "output_type": "display_data"
    }
   ],
   "source": [
    "fig, ax = plt.subplots()\n",
    "hep.histplot(hist_reco_PriVtxZ, density=False, histtype=\"step\")\n",
    "fig.savefig(output_path / \"hist_reco_PriVtxZ.png\")"
   ]
  },
  {
   "attachments": {},
   "cell_type": "markdown",
   "metadata": {},
   "source": [
    "# n reco vtx vs n truth vtx"
   ]
  },
  {
   "cell_type": "code",
   "execution_count": 25,
   "metadata": {},
   "outputs": [
    {
     "data": {
      "image/png": "[encoded data removed]",
      "text/plain": [
       "<Figure size 640x480 with 1 Axes>"
      ]
     },
     "metadata": {},
     "output_type": "display_data"
    }
   ],
   "source": [
    "max_value = np.max(vertexing.nTrueVtx)\n",
    "\n",
    "TH2_vtx_vs_pu = (\n",
    "    hist.Hist.new.Reg(\n",
    "        max_value,\n",
    "        0,\n",
    "        max_value,\n",
    "        name=\"num_truth_vtx\",\n",
    "        label=\"Number of truth vertex\",\n",
    "        flow=True,\n",
    "    )\n",
    "    .Reg(\n",
    "        max_value,\n",
    "        0,\n",
    "        max_value,\n",
    "        name=\"num_reco_vtx\",\n",
    "        label=\"Number of reco vertex\",\n",
    "        flow=True,\n",
    "    )\n",
    "    .Double()\n",
    ")\n",
    "TH2_vtx_vs_pu.fill(vertexing.nTrueVtx, vertexing.nRecoVtx)\n",
    "hprofile_truth_vs_reco = TH2_vtx_vs_pu.profile(\"num_reco_vtx\")\n",
    "\n",
    "\n",
    "TH2_reconstructable_vtx_vs_pu = (\n",
    "    hist.Hist.new.Reg(\n",
    "        max_value,\n",
    "        0,\n",
    "        max_value,\n",
    "        name=\"num_truth_vtx\",\n",
    "        label=\"Number of truth vertex\",\n",
    "        flow=True,\n",
    "    )\n",
    "    .Reg(\n",
    "        max_value,\n",
    "        0,\n",
    "        max_value,\n",
    "        name=\"num_reconstructable_vtx_vs_pu\",\n",
    "        label=\"Number of reconstructable vertex\",\n",
    "        flow=True,\n",
    "    )\n",
    "    .Double()\n",
    ")\n",
    "TH2_reconstructable_vtx_vs_pu.fill(\n",
    "    vertexing.nTrueVtx, vertexing.nVtxReconstructable\n",
    ")\n",
    "hprofile_reconstructable_vs_reco = TH2_reconstructable_vtx_vs_pu.profile(\n",
    "    \"num_reconstructable_vtx_vs_pu\"\n",
    ")\n",
    "\n",
    "fig, ax = plt.subplots()\n",
    "hprofile_truth_vs_reco.plot(label=vertex_algo)\n",
    "hprofile_reconstructable_vs_reco.plot(label=\"Reconstructable\")\n",
    "\n",
    "# bin_values, bin_edges = hprofile.to_numpy()\n",
    "# ax.stairs(bin_values,  bin_edges)\n",
    "ax.set_ylabel(\"Number of Reconstructed Vertex\")\n",
    "ax.set_title(f\"{vertex_algo} n1000 npu50\")\n",
    "ax.plot(\n",
    "    [max_value, 0.0],\n",
    "    [max_value, 0.0],\n",
    "    \"--\",\n",
    "    color=(0.6, 0.6, 0.6),\n",
    "    label=\"100% efficiency\",\n",
    ")\n",
    "\n",
    "ax.legend()\n",
    "ax.set_xlim(0, max_value)\n",
    "# ax.text(0.5, 0.5, f\"Mean: {hprofile.values()[0]:.2f}\", transform=ax.transAxes)\n",
    "plt.savefig(output_path / \"num_vtx_vs_pu.png\")"
   ]
  },
  {
   "attachments": {},
   "cell_type": "markdown",
   "metadata": {},
   "source": [
    "# reco vtx diff Z"
   ]
  },
  {
   "cell_type": "code",
   "execution_count": 26,
   "metadata": {},
   "outputs": [],
   "source": [
    "def calculate_differenceZ(vtx_vz: ak.highlevel.Array):\n",
    "    differenceZ = []\n",
    "    for vtx_vz_event in vtx_vz:\n",
    "        distance_all_pairs = ak.flatten(vtx_vz_event[:, None] - vtx_vz_event)\n",
    "        differenceZ.append(distance_all_pairs[distance_all_pairs != 0])\n",
    "\n",
    "    return differenceZ"
   ]
  },
  {
   "cell_type": "code",
   "execution_count": 27,
   "metadata": {},
   "outputs": [
    {
     "data": {
      "text/html": [
       "<html>\n",
       "<div style=\"display:flex; align-items:center;\">\n",
       "<div style=\"width:290px;\">\n",
       "<svg xmlns=\"http://www.w3.org/2000/svg\" viewBox=\"-10 -105 270 120\">\n",
       "<line x1=\"-5\" y1=\"0\" x2=\"255\" y2=\"0\" style=\"fill:none;stroke-width:2;stroke:currentColor\"/>\n",
       "<text text-anchor=\"middle\" x=\"0\" y=\"15\" style=\"fill:currentColor;\">\n",
       "-5\n",
       "</text>\n",
       "<text text-anchor=\"middle\" x=\"250\" y=\"15\" style=\"fill:currentColor;\">\n",
       "5\n",
       "</text>\n",
       "<text text-anchor=\"middle\" x=\"125.0\" y=\"15\" style=\"fill:currentColor;\">\n",
       "diffZ\n",
       "</text>\n",
       "<polyline points=\"  0,0   0,-91.4   5,-91.4   5,-93  10,-93  10,-95.5  15,-95.5  15,-96.5  20,-96.5  20,-94.7  25,-94.7  25,-93.6  30,-93.6  30,-97.8  35,-97.8  35,-98.4  40,-98.4  40,-98.1  45,-98.1  45,-92.8  50,-92.8  50,-94.5  55,-94.5  55,-92.7  60,-92.7  60,-93.4  65,-93.4  65,-94.9  70,-94.9  70,-95.1  75,-95.1  75,-96  80,-96  80,-96.3  85,-96.3  85,-100  90,-100  90,-93.2  95,-93.2  95,-92.5 100,-92.5 100,-94.1 105,-94.1 105,-93.4 110,-93.4 110,-92.7 115,-92.7 115,-95.4 120,-95.4 120,-94.8 125,-94.8 125,-94.8 130,-94.8 130,-95.4 135,-95.4 135,-92.7 140,-92.7 140,-93.4 145,-93.4 145,-94.1 150,-94.1 150,-92.5 155,-92.5 155,-93.2 160,-93.2 160,-100 165,-100 165,-96.3 170,-96.3 170,-96 175,-96 175,-95.1 180,-95.1 180,-94.9 185,-94.9 185,-93.4 190,-93.4 190,-92.7 195,-92.7 195,-94.5 200,-94.5 200,-92.8 205,-92.8 205,-98.1 210,-98.1 210,-98.4 215,-98.4 215,-97.8 220,-97.8 220,-93.6 225,-93.6 225,-94.7 230,-94.7 230,-96.5 235,-96.5 235,-95.5 240,-95.5 240,-93 245,-93 245,-91.4 250,-91.4 250,0\" style=\"fill:none; stroke:currentColor;\"/>\n",
       "</svg>\n",
       "</div>\n",
       "<div style=\"flex=grow:1;\">\n",
       "Regular(50, -5, 5, name='diffZ')<br/>\n",
       "<hr style=\"margin-top:.2em; margin-bottom:.2em;\"/>\n",
       "Double() Σ=131672.0 <em>(2610474.0 with flow)</em>\n",
       "\n",
       "</div>\n",
       "</div>\n",
       "</html>"
      ],
      "text/plain": [
       "Hist(Regular(50, -5, 5, name='diffZ'), storage=Double()) # Sum: 131672.0 (2610474.0 with flow)"
      ]
     },
     "execution_count": 27,
     "metadata": {},
     "output_type": "execute_result"
    }
   ],
   "source": [
    "reco_vtx_vz = ML_tracks.reco_PriVtxZ\n",
    "truth_vtx_vz = ML_tracks.truth_PriVtxZ\n",
    "\n",
    "\n",
    "### Plot the reco vtx\n",
    "hist_differenceZ = hist.Hist(\n",
    "    hist.axis.Regular(bins=50, start=-5, stop=5, name=\"diffZ\")\n",
    ")\n",
    "differenceZ = calculate_differenceZ(reco_vtx_vz)\n",
    "# flatten the list\n",
    "differenceZ = np.concatenate(differenceZ)\n",
    "hist_differenceZ.fill(differenceZ)\n",
    "# plot_hist(hist_differenceZ, output_path, output_name=f'diffZ_amvf_pu{pu_number}', pu_number = pu_number, is_truth=False)\n",
    "\n",
    "### Plot the truth vtx\n",
    "differenceZ_truth = calculate_differenceZ(truth_vtx_vz)\n",
    "hist_differenceZ_truth = hist_differenceZ.copy()\n",
    "hist_differenceZ_truth.reset()\n",
    "differenceZ_truth = np.concatenate(differenceZ_truth)\n",
    "hist_differenceZ_truth.fill(differenceZ_truth)\n",
    "# plot_hist(hist_differenceZ_truth, output_path, output_name=f'diffZ_truth_pu{pu_number}', pu_number = pu_number, is_truth=True)"
   ]
  },
  {
   "cell_type": "code",
   "execution_count": 28,
   "metadata": {},
   "outputs": [
    {
     "data": {
      "image/png": "[encoded data removed]",
      "text/plain": [
       "<Figure size 640x480 with 1 Axes>"
      ]
     },
     "metadata": {},
     "output_type": "display_data"
    }
   ],
   "source": [
    "fig, ax = plt.subplots()\n",
    "\n",
    "hep.histplot(hist_differenceZ, density=False, histtype=\"step\", label=\"Reco\")\n",
    "# hep.histplot(hist_differenceZ_truth, density=False, histtype='step', label=\"Truth\")\n",
    "ax.set_xlabel(\"Difference in Z [mm]\")\n",
    "ax.set_ylabel(\"Number of Pairs\")\n",
    "ax.legend()\n",
    "fig.savefig(output_path / \"diffZ.png\")"
   ]
  },
  {
   "attachments": {},
   "cell_type": "markdown",
   "metadata": {},
   "source": [
    "# Reco Vertex classification"
   ]
  },
  {
   "cell_type": "code",
   "execution_count": 106,
   "metadata": {},
   "outputs": [],
   "source": [
    "from enum import Enum\n",
    "\n",
    "vxMatchWeight = 0.7\n",
    "cutMinTruthRecoRadialDiff = 0.1\n",
    "\n",
    "\n",
    "class VertexMatchType(Enum):\n",
    "    \"\"\"Copy the definitions here\n",
    "    https://acode-browser1.usatlas.bnl.gov/lxr/source/athena/InnerDetector/InDetValidation/InDetTruthVertexValidation/InDetTruthVertexValidation/InDetVertexTruthMatchUtils.h?v=21.9#0020\n",
    "    \"\"\"\n",
    "\n",
    "    MATCHED = 0\n",
    "    MERGED = 1\n",
    "    SPLIT = 2\n",
    "    FAKE = 3\n",
    "    DUMMY = 4\n",
    "    NTYPES = 5\n",
    "\n",
    "\n",
    "class HardScatterType(Enum):\n",
    "    \"\"\"Copy the definitions here\n",
    "    https://acode-browser1.usatlas.bnl.gov/lxr/source/athena/InnerDetector/InDetValidation/InDetTruthVertexValidation/InDetTruthVertexValidation/InDetVertexTruthMatchUtils.h?v=21.9#0030\n",
    "    \"\"\"\n",
    "\n",
    "    CLEAN = 0\n",
    "    LOWPU = 1\n",
    "    HIGHPU = 2\n",
    "    HSSPLIT = 3\n",
    "    NONE = 4\n",
    "    NHSTYPES = 5\n",
    "\n",
    "\n",
    "vxMatchWeight = 0.7\n",
    "cutMinTruthRecoRadialDiff = 0.1\n",
    "\n",
    "\n",
    "def classifyRecoVertex(RecoVertexMatchInfo: np.ndarray) -> list:\n",
    "    reco_vtx_type = np.zeros(VertexMatchType.NTYPES.value, dtype=int)\n",
    "    n_reco_vtx = RecoVertexMatchInfo[1].shape[0] - 1  # exclude dummy vertex\n",
    "\n",
    "    normalized_RecoVertexMatchInfo = RecoVertexMatchInfo[2] / np.sum(\n",
    "        RecoVertexMatchInfo[2], axis=0\n",
    "    )\n",
    "    np.nan_to_num(normalized_RecoVertexMatchInfo, copy=False)\n",
    "\n",
    "    vtx_types = -1 * np.ones(n_reco_vtx + 1, dtype=int)\n",
    "\n",
    "    for reco_vtx_id in range(1, 1 + n_reco_vtx):\n",
    "        max_weight_idx = np.argmax(RecoVertexMatchInfo[2, reco_vtx_id])\n",
    "\n",
    "        if (\n",
    "            normalized_RecoVertexMatchInfo[reco_vtx_id, max_weight_idx]\n",
    "            > vxMatchWeight\n",
    "        ):\n",
    "            reco_vtx_type[VertexMatchType.MATCHED.value] += 1\n",
    "            vtx_types[reco_vtx_id] = VertexMatchType.MATCHED.value\n",
    "        elif (\n",
    "            normalized_RecoVertexMatchInfo[reco_vtx_id, max_weight_idx]\n",
    "            < vxMatchWeight\n",
    "        ):\n",
    "            if (\n",
    "                normalized_RecoVertexMatchInfo[reco_vtx_id, max_weight_idx]\n",
    "                == RecoVertexMatchInfo[2, reco_vtx_id].max()\n",
    "            ):\n",
    "                reco_vtx_type[VertexMatchType.MERGED.value] += 1\n",
    "                vtx_types[reco_vtx_id] = VertexMatchType.MERGED.value\n",
    "            else:\n",
    "                reco_vtx_type[VertexMatchType.SPLIT.value] += 1\n",
    "                vtx_types[reco_vtx_id] = VertexMatchType.SPLIT.value\n",
    "        elif max_weight_idx == 0:\n",
    "            reco_vtx_type[VertexMatchType.FAKE.value] += 1\n",
    "            vtx_types[reco_vtx_id] = VertexMatchType.FAKE.value\n",
    "        else:\n",
    "            reco_vtx_type[VertexMatchType.SPLIT.value] += 1\n",
    "            vtx_types[reco_vtx_id] = VertexMatchType.SPLIT.value\n",
    "\n",
    "    # for reco_vtx_id in range(1, 1+n_reco_vtx):\n",
    "    #     if vtx_types[reco_vtx_id] != -1 :\n",
    "    #         continue\n",
    "\n",
    "    return vtx_types, reco_vtx_type\n",
    "\n",
    "\n",
    "def classifyHardScatter(\n",
    "    RecoVertexMatchInfo: np.ndarray, vtx_types: dict\n",
    ") -> HardScatterType:\n",
    "    # count how many reco vtx the truth HS contributes to\n",
    "    n_contribution_from_truth_HS = np.count_nonzero(\n",
    "        RecoVertexMatchInfo[0, :, 1]\n",
    "    )\n",
    "\n",
    "    if n_contribution_from_truth_HS == 0:\n",
    "        return HardScatterType.NONE\n",
    "    elif n_contribution_from_truth_HS == 1:\n",
    "        # find the only one reco idx that truth HS contributes to\n",
    "        reco_vtx_idx = np.flatnonzero(RecoVertexMatchInfo[0, :, 1] != 0)[0]\n",
    "        # check if the\n",
    "        # FIXME athena uses the weights but here I use the sum of pt2\n",
    "        is_largest_contribution = reco_vtx_idx == np.argmax(\n",
    "            RecoVertexMatchInfo[1, reco_vtx_idx, :]\n",
    "        )\n",
    "\n",
    "        reco_vtx_type = vtx_types[reco_vtx_idx]\n",
    "        if (\n",
    "            is_largest_contribution\n",
    "            and reco_vtx_type == VertexMatchType.MATCHED\n",
    "        ):\n",
    "            return HardScatterType.CLEAN\n",
    "        elif (\n",
    "            is_largest_contribution and reco_vtx_type == VertexMatchType.MERGED\n",
    "        ):\n",
    "            return HardScatterType.LOWPU\n",
    "        else:\n",
    "            return HardScatterType.HIGHPU\n",
    "    else:\n",
    "        # multiple reco vertices have tracks from hard-scatter\n",
    "        # count how many have hard-scatter tracks as largest contribution\n",
    "        reco_vtxs_idx = np.flatnonzero(RecoVertexMatchInfo[0, :, 1] != 0)\n",
    "        largest_contributution_idxs = np.argmax(\n",
    "            RecoVertexMatchInfo[1, reco_vtxs_idx, :], axis=1\n",
    "        )\n",
    "        n_largest_contribution_from_truth_HS = np.count_nonzero(\n",
    "            largest_contributution_idxs == 1\n",
    "        )\n",
    "        if n_largest_contribution_from_truth_HS == 0:\n",
    "            return HardScatterType.HIGHPU\n",
    "        elif n_largest_contribution_from_truth_HS == 1:\n",
    "            # Only one reco vtx has the largest contribution\n",
    "            # identify this reco vtx\n",
    "            reco_vtx_idx = reco_vtxs_idx[\n",
    "                np.where(largest_contributution_idxs == 1)[0][0]\n",
    "            ]\n",
    "            # take its vtx type\n",
    "            reco_vtx_type = vtx_types[reco_vtx_idx]\n",
    "            # choose the event type\n",
    "            if reco_vtx_type == VertexMatchType.MATCHED:\n",
    "                return HardScatterType.CLEAN\n",
    "            elif reco_vtx_type == VertexMatchType.MERGED:\n",
    "                return HardScatterType.LOWPU\n",
    "            else:\n",
    "                return HardScatterType.HIGHPU\n",
    "        else:\n",
    "            return HardScatterType.HSSPLIT"
   ]
  },
  {
   "cell_type": "code",
   "execution_count": 107,
   "metadata": {},
   "outputs": [],
   "source": [
    "def getMatchInfo(event: ak.highlevel.Record):\n",
    "    \"\"\"Event base flattening and return the performance\n",
    "\n",
    "    Args:\n",
    "        event (ak.highlevel.Record): _description_\n",
    "    \"\"\"\n",
    "    reco_vtx_vz = event.reco_PriVtxZ\n",
    "    truth_vtx_vz = event.truth_PriVtxZ\n",
    "\n",
    "    n_reco_vtx = len(reco_vtx_vz)\n",
    "    n_truth_vtx = len(truth_vtx_vz)\n",
    "\n",
    "    reco_trk_pt2 = np.power(\n",
    "        (1.0 / event.reco_trk_qop * np.sin(event.reco_trk_theta)), 2\n",
    "    )\n",
    "    reco_trk_reco_vtx_idx = ak.values_astype(\n",
    "        event.reco_trk_reco_vtx_idx + 1, \"int32\"\n",
    "    )\n",
    "    reco_trk_reco_vtx_trackWeight = event.reco_trk_reco_vtx_trackWeight\n",
    "    reco_trk_truth_vtx_idx = event.reco_trk_truth_vtx_idx + 1\n",
    "\n",
    "    # the first row is number of tracks\n",
    "    # the second row is the sum of pt2 of tracks\n",
    "    # the third row is the sum of the track weights of reco vertices\n",
    "\n",
    "    RecoVertexMatchInfo = np.zeros(\n",
    "        (3, n_reco_vtx + 1, n_truth_vtx + 1), dtype=float\n",
    "    )\n",
    "    #### FIXME Should have a better numpy way to do this instead of looping\n",
    "    for reco_trk_idx in range(len(reco_trk_truth_vtx_idx)):\n",
    "        truth_vtx_idx = reco_trk_truth_vtx_idx[reco_trk_idx]\n",
    "        reco_vtx_idxs = reco_trk_reco_vtx_idx[reco_trk_idx]\n",
    "        if truth_vtx_idx < 0:\n",
    "            truth_vtx_idx = 0\n",
    "\n",
    "        for i, reco_trk_idx in enumerate(reco_vtx_idxs):\n",
    "            if reco_trk_idx < 0:\n",
    "                reco_trk_idx = 0\n",
    "\n",
    "            RecoVertexMatchInfo[0, reco_trk_idx, truth_vtx_idx] += 1\n",
    "            RecoVertexMatchInfo[\n",
    "                1, reco_trk_idx, truth_vtx_idx\n",
    "            ] += reco_trk_pt2[reco_trk_idx]\n",
    "            RecoVertexMatchInfo[\n",
    "                2, reco_trk_idx, truth_vtx_idx\n",
    "            ] += reco_trk_reco_vtx_trackWeight[reco_trk_idx][0]\n",
    "\n",
    "    assert np.sum(RecoVertexMatchInfo[0, :, :]) == ak.count(\n",
    "        reco_trk_reco_vtx_idx\n",
    "    )\n",
    "\n",
    "    return RecoVertexMatchInfo\n",
    "\n",
    "\n",
    "def Get_local_PU_density(\n",
    "    truth_vtx_vx,\n",
    "    truth_vtx_vy,\n",
    "    truth_vtx_vz,\n",
    "    truth_HS_idx=0,\n",
    "    xyz_dist_window=2.0,\n",
    "):\n",
    "    # Calculate the PU density around the truth HS vertex\n",
    "    residual_truth_vtx_vx = truth_vtx_vx - truth_vtx_vx[truth_HS_idx]\n",
    "    residual_truth_vtx_vy = truth_vtx_vy - truth_vtx_vy[truth_HS_idx]\n",
    "    residual_truth_vtx_vz = truth_vtx_vz - truth_vtx_vz[truth_HS_idx]\n",
    "\n",
    "    dist_to_truth_HS = (\n",
    "        residual_truth_vtx_vx**2\n",
    "        + residual_truth_vtx_vy**2\n",
    "        + residual_truth_vtx_vz**2\n",
    "    )\n",
    "    n_local_truth = len(np.where(dist_to_truth_HS < xyz_dist_window**2)[0])\n",
    "    return (n_local_truth - 1) / (2 * xyz_dist_window)"
   ]
  },
  {
   "cell_type": "code",
   "execution_count": 150,
   "metadata": {},
   "outputs": [],
   "source": [
    "def do_matching(ML_tracks):\n",
    "    total_reco_vtx_type = np.zeros(VertexMatchType.NTYPES.value, dtype=int)\n",
    "    total_hs_type = np.zeros(HardScatterType.NHSTYPES.value, dtype=int)\n",
    "\n",
    "    hs_reco_eff = ROOT.TEfficiency(\n",
    "        \"hs_reco_eff\",\n",
    "        \"HS Reconstruction Efficiency; Local PU density; eff\",\n",
    "        12,\n",
    "        0,\n",
    "        6,\n",
    "    )\n",
    "    hs_sel_eff = ROOT.TEfficiency(\n",
    "        \"hs_sel_eff\",\n",
    "        \"HS Selection and Reconstruction Efficiency; Local PU density; eff\",\n",
    "        12,\n",
    "        0,\n",
    "        6,\n",
    "    )\n",
    "\n",
    "    for event_idx, event_nr in enumerate(ML_tracks.event_nr):\n",
    "        if event_idx % 100 == 0:\n",
    "            print(f\"Processing event {event_idx} / {len(ML_tracks.event_nr)}\")\n",
    "        event = ML_tracks[event_idx]\n",
    "        reco_vtx_vx = event.reco_PriVtxX\n",
    "        reco_vtx_vy = event.reco_PriVtxY\n",
    "        reco_vtx_vz = event.reco_PriVtxZ\n",
    "        truth_vtx_vx = event.truth_PriVtxX\n",
    "        truth_vtx_vy = event.truth_PriVtxY\n",
    "        truth_vtx_vz = event.truth_PriVtxZ\n",
    "\n",
    "        RecoVertexMatchInfo = getMatchInfo(event)\n",
    "        vtx_types, reco_vtx_type = classifyRecoVertex(RecoVertexMatchInfo)\n",
    "        hs_type = classifyHardScatter(RecoVertexMatchInfo, vtx_types)\n",
    "\n",
    "        total_reco_vtx_type = total_reco_vtx_type + reco_vtx_type\n",
    "        total_hs_type[hs_type.value] += 1\n",
    "\n",
    "        truth_HS_idx = 0\n",
    "        idx_best_reco_HS_nTrk = (\n",
    "            np.argmax(RecoVertexMatchInfo[0, :, truth_HS_idx + 1]) - 1\n",
    "        )\n",
    "        idx_best_reco_HS_sumpt2 = (\n",
    "            np.argmax(RecoVertexMatchInfo[1].sum(axis=1)) - 1\n",
    "        )\n",
    "\n",
    "        residual = np.array(\n",
    "            [\n",
    "                reco_vtx_vx[idx_best_reco_HS_nTrk]\n",
    "                - truth_vtx_vx[truth_HS_idx],\n",
    "                reco_vtx_vy[idx_best_reco_HS_nTrk]\n",
    "                - truth_vtx_vy[truth_HS_idx],\n",
    "                reco_vtx_vz[idx_best_reco_HS_nTrk]\n",
    "                - truth_vtx_vz[truth_HS_idx],\n",
    "            ]\n",
    "        )\n",
    "\n",
    "        local_PU_density = Get_local_PU_density(\n",
    "            truth_vtx_vx=truth_vtx_vx,\n",
    "            truth_vtx_vy=truth_vtx_vy,\n",
    "            truth_vtx_vz=truth_vtx_vz,\n",
    "        )\n",
    "\n",
    "        trhth_HS_vtx_recoed = False\n",
    "        trhth_HS_vtx_recoed_seled = False\n",
    "        if np.square(residual).sum() <= cutMinTruthRecoRadialDiff**2:\n",
    "            trhth_HS_vtx_recoed = True\n",
    "            if idx_best_reco_HS_nTrk == idx_best_reco_HS_sumpt2:\n",
    "                trhth_HS_vtx_recoed_seled = True\n",
    "\n",
    "        hs_reco_eff.Fill(trhth_HS_vtx_recoed, local_PU_density)\n",
    "        hs_sel_eff.Fill(\n",
    "            trhth_HS_vtx_recoed and trhth_HS_vtx_recoed_seled, local_PU_density\n",
    "        )\n",
    "\n",
    "    return total_reco_vtx_type, total_hs_type, hs_reco_eff, hs_sel_eff"
   ]
  },
  {
   "cell_type": "code",
   "execution_count": 151,
   "metadata": {},
   "outputs": [],
   "source": [
    "def plot_pv_hs_classification(\n",
    "    enum_Classification,\n",
    "    plot_type,\n",
    "    output_path=None,\n",
    "    output_name=None,\n",
    "    pu_number=None,\n",
    "):\n",
    "    if plot_type == \"pv\":\n",
    "        enum_type = VertexMatchType\n",
    "        identifier_title = \"Primary vertex\"\n",
    "\n",
    "    elif plot_type == \"hs\":\n",
    "        enum_type = HardScatterType\n",
    "        identifier_title = \"HS event\"\n",
    "\n",
    "    n_types = VertexMatchType.NTYPES.value\n",
    "    bins_edges = np.arange(0, n_types + 1)\n",
    "\n",
    "    bin_centers = 0.5 * (bins_edges[:-1] + bins_edges[1:])\n",
    "    x_labels = enum_type._member_names_[:-1]\n",
    "\n",
    "    fig, ax = plt.subplots()\n",
    "    ax.stairs(enum_Classification)\n",
    "    ax.set_xticks(bin_centers, x_labels)\n",
    "    ax.set_title(f\"{identifier_title} classification on IVF\")\n",
    "    ax.set_xlabel(f\"{identifier_title} type\")\n",
    "    ax.set_ylabel(\"Number\")\n",
    "    fig.savefig(output_path / output_name)\n",
    "\n",
    "\n",
    "def plot_eff(\n",
    "    eff, plot_type, output_path=None, output_name=None, pu_number=None\n",
    "):\n",
    "    canvas_eff = ROOT.TCanvas()\n",
    "    legend_eff = ROOT.TLegend(0.1, 0.2, 0.4, 0.4)\n",
    "\n",
    "    eff.SetLineColor(2)\n",
    "    eff.Draw()\n",
    "    legend_eff.AddEntry(eff, \"IVF\")\n",
    "    legend_eff.Draw(\"same\")\n",
    "    canvas_eff.Draw()\n",
    "\n",
    "    canvas_eff.Print((output_path / f\"{output_name}.png\").as_posix())\n",
    "\n",
    "\n",
    "def performance_classification_n_eff(\n",
    "    input_root_path: Path,\n",
    "    output_path: Path,\n",
    "    ML_tracks_tree_name=\"ML_tracks\",\n",
    "):\n",
    "    output_path = output_path / \"classification_n_eff\"\n",
    "    output_path.mkdir(\n",
    "        parents=True, exist_ok=True\n",
    "    ) if not output_path.exists() else None\n",
    "    # check_outputpath(output_path)\n",
    "\n",
    "    ### Reading the information from TTree\n",
    "    root_file = uproot.open(input_root_path)\n",
    "    # file_name = input_root_path.stem # for example, vertexperformance_AMVF_pu100.root\n",
    "    # pu_search_pattern = r'pu(.+)$'\n",
    "    # pu_number = re.search(pu_search_pattern, file_name).group((1))\n",
    "\n",
    "    ML_tracks = root_file[ML_tracks_tree_name].arrays()\n",
    "\n",
    "    (\n",
    "        PV_Classisfication,\n",
    "        HS_Classification,\n",
    "        hs_reco_eff,\n",
    "        hs_sel_eff,\n",
    "    ) = do_matching(ML_tracks)\n",
    "\n",
    "    plot_pv_hs_classification(\n",
    "        PV_Classisfication,\n",
    "        plot_type=\"pv\",\n",
    "        output_path=output_path,\n",
    "        output_name=\"pv_classification\",\n",
    "    )\n",
    "    plot_pv_hs_classification(\n",
    "        HS_Classification,\n",
    "        plot_type=\"hs\",\n",
    "        output_path=output_path,\n",
    "        output_name=\"hs_classification\",\n",
    "    )\n",
    "\n",
    "    plot_eff(\n",
    "        hs_reco_eff,\n",
    "        plot_type=\"hs_reco_eff\",\n",
    "        output_path=output_path,\n",
    "        output_name=\"hs_reco_eff\",\n",
    "    )\n",
    "    plot_eff(\n",
    "        hs_sel_eff,\n",
    "        plot_type=\"hs_sel_eff\",\n",
    "        output_path=output_path,\n",
    "        output_name=\"hs_sel_eff\",\n",
    "    )"
   ]
  },
  {
   "cell_type": "code",
   "execution_count": 152,
   "metadata": {},
   "outputs": [
    {
     "name": "stdout",
     "output_type": "stream",
     "text": [
      "Processing event 0 / 1000\n"
     ]
    },
    {
     "name": "stderr",
     "output_type": "stream",
     "text": [
      "/var/folders/l8/k4rv8vgs70nfv0kfc2d39n200000gn/T/ipykernel_19841/3999062721.py:39: RuntimeWarning: invalid value encountered in divide\n",
      "  normalized_RecoVertexMatchInfo = RecoVertexMatchInfo[2] / np.sum(RecoVertexMatchInfo[2], axis=0)\n"
     ]
    },
    {
     "name": "stdout",
     "output_type": "stream",
     "text": [
      "Processing event 100 / 1000\n",
      "Processing event 200 / 1000\n",
      "Processing event 300 / 1000\n",
      "Processing event 400 / 1000\n",
      "Processing event 500 / 1000\n",
      "Processing event 600 / 1000\n",
      "Processing event 700 / 1000\n",
      "Processing event 800 / 1000\n",
      "Processing event 900 / 1000\n"
     ]
    },
    {
     "name": "stderr",
     "output_type": "stream",
     "text": [
      "Info in <TCanvas::Print>: png file tmp/classification_n_eff/hs_reco_eff.png has been created\n",
      "Info in <TCanvas::Print>: png file tmp/classification_n_eff/hs_sel_eff.png has been created\n"
     ]
    },
    {
     "data": {
      "image/png": "[encoded data removed]",
      "text/plain": [
       "<Figure size 640x480 with 1 Axes>"
      ]
     },
     "metadata": {},
     "output_type": "display_data"
    },
    {
     "data": {
      "image/png": "[encoded data removed]",
      "text/plain": [
       "<Figure size 640x480 with 1 Axes>"
      ]
     },
     "metadata": {},
     "output_type": "display_data"
    }
   ],
   "source": [
    "performance_classification_n_eff(\n",
    "    input_root_path=file_path, output_path=Path(\"./tmp\")\n",
    ")"
   ]
  },
  {
   "cell_type": "code",
   "execution_count": null,
   "metadata": {},
   "outputs": [],
   "source": []
  }
 ],
 "metadata": {
  "kernelspec": {
   "display_name": "ml",
   "language": "python",
   "name": "python3"
  },
  "language_info": {
   "codemirror_mode": {
    "name": "ipython",
    "version": 3
   },
   "file_extension": ".py",
   "mimetype": "text/x-python",
   "name": "python",
   "nbconvert_exporter": "python",
   "pygments_lexer": "ipython3",
   "version": "3.10.10"
  },
  "orig_nbformat": 4
 },
 "nbformat": 4,
 "nbformat_minor": 2
}
