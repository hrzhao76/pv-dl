{
 "cells": [
  {
   "cell_type": "code",
   "execution_count": 1,
   "metadata": {},
   "outputs": [],
   "source": [
    "import os, sys\n",
    "sys.path.append(os.path.abspath(os.path.join('..', 'src')))\n",
    "from pathlib import Path\n",
    "\n",
    "samples_folder = Path('../../samples')"
   ]
  },
  {
   "cell_type": "code",
   "execution_count": 2,
   "metadata": {},
   "outputs": [],
   "source": [
    "# This notebook inspect the samples passed from Ke \n",
    "# https://cernbox.cern.ch/s/l7l2k7lL7nJTtrL "
   ]
  },
  {
   "cell_type": "code",
   "execution_count": 3,
   "metadata": {},
   "outputs": [],
   "source": [
    "import uproot\n",
    "import mplhep as hep\n",
    "import awkward as ak\n",
    "import hist\n",
    "from matplotlib import pyplot as plt\n",
    "import numpy as np\n",
    "import pandas "
   ]
  },
  {
   "cell_type": "code",
   "execution_count": 4,
   "metadata": {},
   "outputs": [],
   "source": [
    "file_path = samples_folder / \"sample_Ke/performance_vertexing.root\"\n",
    "file_path = Path(file_path)"
   ]
  },
  {
   "cell_type": "code",
   "execution_count": 5,
   "metadata": {},
   "outputs": [],
   "source": [
    "file = uproot.open(file_path)"
   ]
  },
  {
   "cell_type": "code",
   "execution_count": 6,
   "metadata": {},
   "outputs": [
    {
     "data": {
      "text/plain": [
       "['vertexing;1', 'ML_tracks;1']"
      ]
     },
     "execution_count": 6,
     "metadata": {},
     "output_type": "execute_result"
    }
   ],
   "source": [
    "file.keys()"
   ]
  },
  {
   "cell_type": "code",
   "execution_count": 8,
   "metadata": {},
   "outputs": [
    {
     "data": {
      "text/plain": [
       "['event_nr',\n",
       " 'reco_PriVtxX',\n",
       " 'reco_PriVtxY',\n",
       " 'reco_PriVtxZ',\n",
       " 'truth_PriVtxX',\n",
       " 'truth_PriVtxY',\n",
       " 'truth_PriVtxZ',\n",
       " 'reco_trk_fit_d0',\n",
       " 'reco_trk_fit_z0',\n",
       " 'reco_trk_fit_phi',\n",
       " 'reco_trk_fit_theta',\n",
       " 'reco_trk_fit_qop',\n",
       " 'reco_trk_fit_time',\n",
       " 'reco_trk_fit_err_d0',\n",
       " 'reco_trk_fit_err_z0',\n",
       " 'reco_trk_fit_err_phi',\n",
       " 'reco_trk_fit_err_theta',\n",
       " 'reco_trk_fit_err_qop',\n",
       " 'reco_trk_fit_err_time',\n",
       " 'reco_trk_truth_vtx_idx',\n",
       " 'reco_trk_reco_vtx_idx']"
      ]
     },
     "execution_count": 8,
     "metadata": {},
     "output_type": "execute_result"
    }
   ],
   "source": [
    "file['ML_tracks'].keys()"
   ]
  },
  {
   "cell_type": "code",
   "execution_count": 13,
   "metadata": {},
   "outputs": [],
   "source": [
    "ML_tracks = file['ML_tracks'].arrays()"
   ]
  },
  {
   "cell_type": "code",
   "execution_count": 15,
   "metadata": {},
   "outputs": [
    {
     "data": {
      "text/html": [
       "<pre>{event_nr: 0,\n",
       " reco_PriVtxX: [],\n",
       " reco_PriVtxY: [],\n",
       " reco_PriVtxZ: [],\n",
       " truth_PriVtxX: [-0.00688, -0.015, -0.00142, ..., 0.0108, -0.0151, 0.00495],\n",
       " truth_PriVtxY: [0.00644, -0.00633, -0.00424, ..., 0.0161, -0.0223, -0.00138],\n",
       " truth_PriVtxZ: [26.3, 1, 35.6, -47.8, -86, ..., 34, -23.6, -20.3, 116, -15.2],\n",
       " reco_trk_fit_d0: [0.0106, 0.01, 0.0159, ..., -0.0165, -0.0317, -0.0285],\n",
       " reco_trk_fit_z0: [-78, 22.5, 22.7, -35.1, -34.9, ..., 97.6, 26.3, 26.3, 26.3],\n",
       " reco_trk_fit_phi: [-3.09, -3.11, -3.11, -2.96, ..., 3.01, 3.05, 3.05, -3.14],\n",
       " reco_trk_fit_theta: [2.79, 2.91, 2.91, 2.74, ..., 2.43, 1.09, 1.09, 1.17],\n",
       " reco_trk_fit_qop: [0.132, 0.185, 0.185, 0.357, ..., -0.225, -0.224, 0.291],\n",
       " reco_trk_fit_time: [0, 0, 0, 0, 0, 0, 0, 0, 0, ..., 0, 0, 0, 0, 0, 0, 0, 0, 0],\n",
       " reco_trk_fit_err_d0: [0.0168, 0.0172, 0.0172, ..., 0.0152, 0.0245, 0.016],\n",
       " reco_trk_fit_err_z0: [0.059, 0.173, 0.172, 0.0723, ..., 0.0179, 0.029, 0.0183],\n",
       " reco_trk_fit_err_phi: [0.000332, 0.000395, 0.000395, ..., 0.000289, 0.000301],\n",
       " reco_trk_fit_err_theta: [0.000199, 0.000282, ..., 0.000249, 0.000285],\n",
       " reco_trk_fit_err_qop: [0.00125, 0.00228, 0.00228, ..., 0.00203, 0.00258],\n",
       " reco_trk_fit_err_time: [1, 1, 1, 1, 1, 1, 1, 1, ..., 1, 1, 1, 1, 1, 1, 1, 1],\n",
       " ...}\n",
       "--------------------------------------------------------------------------------\n",
       "type: {\n",
       "    event_nr: uint32,\n",
       "    reco_PriVtxX: var * float32,\n",
       "    reco_PriVtxY: var * float32,\n",
       "    reco_PriVtxZ: var * float32,\n",
       "    truth_PriVtxX: var * float32,\n",
       "    truth_PriVtxY: var * float32,\n",
       "    truth_PriVtxZ: var * float32,\n",
       "    reco_trk_fit_d0: var * float32,\n",
       "    reco_trk_fit_z0: var * float32,\n",
       "    reco_trk_fit_phi: var * float32,\n",
       "    reco_trk_fit_theta: var * float32,\n",
       "    reco_trk_fit_qop: var * float32,\n",
       "    reco_trk_fit_time: var * float32,\n",
       "    reco_trk_fit_err_d0: var * float32,\n",
       "    reco_trk_fit_err_z0: var * float32,\n",
       "    reco_trk_fit_err_phi: var * float32,\n",
       "    reco_trk_fit_err_theta: var * float32,\n",
       "    reco_trk_fit_err_qop: var * float32,\n",
       "    reco_trk_fit_err_time: var * float32,\n",
       "    reco_trk_truth_vtx_idx: var * int32,\n",
       "    reco_trk_reco_vtx_idx: var * var * float64\n",
       "}</pre>"
      ],
      "text/plain": [
       "<Record {event_nr: 0, reco_PriVtxX: [], ...} type='{event_nr: uint32, reco_...'>"
      ]
     },
     "execution_count": 15,
     "metadata": {},
     "output_type": "execute_result"
    }
   ],
   "source": [
    "ML_tracks[0]"
   ]
  },
  {
   "cell_type": "code",
   "execution_count": 16,
   "metadata": {},
   "outputs": [],
   "source": [
    "vertexing = file['vertexing'].arrays()"
   ]
  },
  {
   "cell_type": "code",
   "execution_count": 17,
   "metadata": {},
   "outputs": [
    {
     "data": {
      "text/html": [
       "<pre>{diffx: [0.0016, -0.0697, -0.0212, 0.0418, ..., -0.0483, 0.0509, -0.0125],\n",
       " diffy: [-0.0019, 0.0342, 0.0109, -0.0178, ..., -0.0403, 0.0441, 0.0289],\n",
       " diffz: [0.00382, 75.9, -0.00119, -31.4, -42.9, ..., -47.7, -61.4, -48.3, 75.9],\n",
       " recoX: [-0.00528, -0.0607, -0.0152, 0.0191, ..., -0.0552, 0.0532, -0.00353],\n",
       " recoY: [0.00454, 0.0238, -0.000782, -0.0102, ..., -0.0339, 0.0359, 0.0186],\n",
       " recoZ: [26.3, 74.1, -77.9, -1.87, 31.1, ..., 97.6, 26.4, -35.1, 49.4, 74],\n",
       " truthX: [-0.00688, 0.00896, 0.00597, -0.0227, ..., -0.00688, 0.00232, 0.00896],\n",
       " truthY: [0.00644, -0.0104, -0.0117, 0.00759, ..., 0.00644, -0.0082, -0.0104],\n",
       " truthZ: [26.3, -1.87, -77.9, 29.5, 74.1, ..., 26.3, 74.1, 26.3, 97.6, -1.87],\n",
       " covXX: [4.49e-06, 1.69e-05, 8.51e-06, ..., 7.64e-05, 0.000513, 9.89e-06],\n",
       " covYY: [3.36e-06, 2.08e-05, 1.3e-05, ..., 6.19e-05, 0.000771, 1.23e-05],\n",
       " covXY: [-4.27e-07, 1.55e-06, -1.04e-06, ..., 3.92e-05, 0.000573, -1.5e-06],\n",
       " covYX: [-4.27e-07, 1.55e-06, -1.04e-06, ..., 3.92e-05, 0.000573, -1.5e-06],\n",
       " trkVtxMatch: [0.0791, 0.0808, 0.0541, 0.25, ..., 0.112, 0.292, 0.571, 0.08],\n",
       " nRecoVtx: 22,\n",
       " nTrueVtx: 51,\n",
       " nVtxDetectorAcceptance: 37,\n",
       " nVtxReconstructable: 17,\n",
       " timeMS: 91}\n",
       "--------------------------------------------------------------------------------\n",
       "type: {\n",
       "    diffx: var * float32,\n",
       "    diffy: var * float32,\n",
       "    diffz: var * float32,\n",
       "    recoX: var * float32,\n",
       "    recoY: var * float32,\n",
       "    recoZ: var * float32,\n",
       "    truthX: var * float32,\n",
       "    truthY: var * float32,\n",
       "    truthZ: var * float32,\n",
       "    covXX: var * float32,\n",
       "    covYY: var * float32,\n",
       "    covXY: var * float32,\n",
       "    covYX: var * float32,\n",
       "    trkVtxMatch: var * float32,\n",
       "    nRecoVtx: int32,\n",
       "    nTrueVtx: int32,\n",
       "    nVtxDetectorAcceptance: int32,\n",
       "    nVtxReconstructable: int32,\n",
       "    timeMS: int32\n",
       "}</pre>"
      ],
      "text/plain": [
       "<Record {diffx: [0.0016, ...], diffy: ..., ...} type='{diffx: var * float32...'>"
      ]
     },
     "execution_count": 17,
     "metadata": {},
     "output_type": "execute_result"
    }
   ],
   "source": [
    "vertexing[0]"
   ]
  },
  {
   "cell_type": "code",
   "execution_count": 18,
   "metadata": {},
   "outputs": [
    {
     "data": {
      "text/plain": [
       "100"
      ]
     },
     "execution_count": 18,
     "metadata": {},
     "output_type": "execute_result"
    }
   ],
   "source": [
    "len(ML_tracks.event_nr)"
   ]
  },
  {
   "cell_type": "code",
   "execution_count": null,
   "metadata": {},
   "outputs": [],
   "source": []
  }
 ],
 "metadata": {
  "kernelspec": {
   "display_name": "ml",
   "language": "python",
   "name": "python3"
  },
  "language_info": {
   "codemirror_mode": {
    "name": "ipython",
    "version": 3
   },
   "file_extension": ".py",
   "mimetype": "text/x-python",
   "name": "python",
   "nbconvert_exporter": "python",
   "pygments_lexer": "ipython3",
   "version": "3.10.10"
  },
  "orig_nbformat": 4
 },
 "nbformat": 4,
 "nbformat_minor": 2
}
