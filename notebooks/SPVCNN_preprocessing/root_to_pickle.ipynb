{
 "cells": [
  {
   "cell_type": "code",
   "execution_count": null,
   "metadata": {},
   "outputs": [],
   "source": [
    "# Path: notebooks/SPVCNN_preprocessing/root_to_pickle.ipynb\n",
    "# This is a script to convert root files to pickle files \n",
    "import uproot \n",
    "import numpy as np\n",
    "import pandas as pd\n",
    "from pathlib import Path\n",
    "import awkward as ak\n",
    "import os, sys\n",
    "from tqdm import tqdm\n",
    "sys.path.append(os.path.abspath(os.path.join(\"..\", \"src\")))\n",
    "from pathlib import Path\n",
    "\n",
    "samples_folder = Path(\"../../samples\")"
   ]
  },
  {
   "cell_type": "code",
   "execution_count": null,
   "metadata": {},
   "outputs": [],
   "source": [
    "file_path = (\n",
    "    samples_folder / \"sample/n1000_npu50_IVF/vertex_n1000_npu50_IVF_04282023.root\"\n",
    ")\n",
    "\n",
    "vertex_algo = \"IVF\""
   ]
  },
  {
   "cell_type": "code",
   "execution_count": null,
   "metadata": {},
   "outputs": [],
   "source": [
    "file_path.as_posix()"
   ]
  },
  {
   "cell_type": "code",
   "execution_count": null,
   "metadata": {},
   "outputs": [],
   "source": [
    "file = uproot.open(file_path)"
   ]
  },
  {
   "cell_type": "code",
   "execution_count": null,
   "metadata": {},
   "outputs": [],
   "source": [
    "file.keys()"
   ]
  },
  {
   "cell_type": "code",
   "execution_count": null,
   "metadata": {},
   "outputs": [],
   "source": [
    "raw_data_dir = Path(\"./tmp\")"
   ]
  },
  {
   "cell_type": "code",
   "execution_count": null,
   "metadata": {},
   "outputs": [],
   "source": [
    "root_dir = uproot.open(file_path)\n",
    "\n",
    "ML_tracks_tree = root_dir[\"ML_tracks\"]"
   ]
  },
  {
   "cell_type": "code",
   "execution_count": null,
   "metadata": {},
   "outputs": [],
   "source": [
    "ML_tracks_tree.keys()"
   ]
  },
  {
   "cell_type": "code",
   "execution_count": null,
   "metadata": {},
   "outputs": [],
   "source": [
    "ML_tracks_tree['reco_trk_reco_vtx_idx'].array()"
   ]
  },
  {
   "cell_type": "code",
   "execution_count": null,
   "metadata": {},
   "outputs": [],
   "source": [
    ".keys()"
   ]
  },
  {
   "cell_type": "code",
   "execution_count": null,
   "metadata": {},
   "outputs": [],
   "source": [
    "reco_trk_reco_vtx_trackWeight = ML_tracks_tree['reco_trk_reco_vtx_trackWeight'].array()\n",
    "reco_trk_reco_vtx_idx = ML_tracks_tree['reco_trk_reco_vtx_idx'].array()"
   ]
  },
  {
   "cell_type": "code",
   "execution_count": null,
   "metadata": {},
   "outputs": [],
   "source": [
    "ak.count(ML_tracks_tree['reco_trk_reco_vtx_idx'].array(), axis = 2) - 1"
   ]
  },
  {
   "cell_type": "code",
   "execution_count": null,
   "metadata": {},
   "outputs": [],
   "source": [
    "ML_tracks_tree['reco_trk_reco_vtx_idx']"
   ]
  },
  {
   "cell_type": "code",
   "execution_count": null,
   "metadata": {},
   "outputs": [],
   "source": [
    "np.max(ML_tracks_tree['reco_trk_reco_vtx_idx'].array(), axis=1)"
   ]
  },
  {
   "cell_type": "code",
   "execution_count": null,
   "metadata": {},
   "outputs": [],
   "source": [
    "np.argmax(ML_tracks_tree['reco_trk_reco_vtx_trackWeight'].array(), axis=2)"
   ]
  },
  {
   "cell_type": "code",
   "execution_count": null,
   "metadata": {},
   "outputs": [],
   "source": [
    "reco_trk_prefix = \"reco_trk_fit_\"\n",
    "\n",
    "ML_tracks_dict = {}\n",
    "for k, v in ML_tracks_tree.items():\n",
    "    if not k.startswith(reco_trk_prefix):\n",
    "        continue\n",
    "    ML_tracks_dict[k[len(reco_trk_prefix):]] = v.array(library=\"np\")\n",
    "\n",
    "ML_tracks_dict['truth_instance_label'] = ML_tracks_tree['reco_trk_truth_vtx_idx'].array()\n",
    "reco_trk_reco_vtx_idx = ML_tracks_tree['reco_trk_reco_vtx_idx'].array()\n",
    "reco_trk_reco_vtx_trackWeight = ML_tracks_tree['reco_trk_reco_vtx_trackWeight'].array()\n",
    "\n",
    "ni = 0\n",
    "\n",
    "# ML_tracks_dict['reco_instance_label'] = ML_tracks_tree['reco_trk_reco_vtx_idx'].array()\n",
    "for n in tqdm(range(len(ML_tracks_tree['event_nr'].array()[0:1]))):\n",
    "    ML_tracks_df = {k: ML_tracks_dict[k][n] for k in ML_tracks_dict.keys() if k != 'reco_instance_label'}\n",
    "            \n",
    "    truth_flat_event = pd.DataFrame(ML_tracks_df)\n",
    "\n",
    "    truth_flat_event['truth_semantic_label'] = [1] * len(truth_flat_event)\n",
    "    truth_flat_event.loc[(truth_flat_event['truth_instance_label'] == -999) | truth_flat_event['truth_instance_label'] == -1, \n",
    "                          'truth_semantic_label'] = 0\n",
    "    \n",
    "    # ML_tracks_dict['reco_instance_label']\n",
    "    np.argmax(reco_trk_reco_vtx_trackWeight[n])\n",
    "    truth_flat_event['reco_semantic_label'] = [1] * len(truth_flat_event)\n",
    "    # truth_flat_event.loc[(truth_flat_event['truth_instance_label'] == -999) | truth_flat_event['truth_instance_label'] == -1, \n",
    "    #                       'truth_semantic_label'] = 0\n",
    "\n",
    "    truth_flat_event['x0'] = truth_flat_event['d0'] * np.cos(truth_flat_event['phi'] )\n",
    "    truth_flat_event['y0'] = truth_flat_event['d0'] * np.sin(truth_flat_event['phi'] )\n",
    "\n",
    "\n",
    "    truth_flat_event.dropna(inplace=True) # For some cases the tracks has dummy values \n",
    "\n",
    "    # truth_flat_event.to_pickle(raw_data_dir / f'event_{n+ni:05}.pkl')\n",
    "# ni += n + 1\n",
    "    \n"
   ]
  },
  {
   "cell_type": "code",
   "execution_count": null,
   "metadata": {},
   "outputs": [],
   "source": [
    "max_weight_idx = np.argmax(reco_trk_reco_vtx_trackWeight[n],axis=1)"
   ]
  },
  {
   "cell_type": "code",
   "execution_count": null,
   "metadata": {},
   "outputs": [],
   "source": [
    "reco_trk_reco_vtx_idx[n][max_weight_idx]"
   ]
  },
  {
   "cell_type": "code",
   "execution_count": null,
   "metadata": {},
   "outputs": [],
   "source": [
    "reco_trk_reco_vtx_idx[n]"
   ]
  },
  {
   "cell_type": "code",
   "execution_count": null,
   "metadata": {},
   "outputs": [],
   "source": [
    "max_weight_idx"
   ]
  },
  {
   "cell_type": "code",
   "execution_count": null,
   "metadata": {},
   "outputs": [],
   "source": [
    "ak.flatten(reco_trk_reco_vtx_idx[n][max_weight_idx], )"
   ]
  },
  {
   "cell_type": "code",
   "execution_count": null,
   "metadata": {},
   "outputs": [],
   "source": [
    "truth_flat_event"
   ]
  },
  {
   "cell_type": "code",
   "execution_count": null,
   "metadata": {},
   "outputs": [],
   "source": [
    "def root_to_pickle(root_data_path, raw_data_dir):\n",
    "    if not raw_data_dir.exists():\n",
    "        raw_data_dir.mkdir(parents=True, exist_ok=True)\n",
    "    ni = 0\n",
    "    for f in sorted(root_data_path.glob('*.root')):\n",
    "        print(f)\n",
    "        root_dir = uproot.open(f)\n",
    "        truth_tree = root_dir['Truth_Vertex_PV_Selected']\n",
    "        reco_tree = root_dir['Reco_Vertex']\n",
    "        truth_jagged_dict = {}\n",
    "        reco_jagged_dict = {}\n",
    "        truth_prefix = 'reco_trk_fit_'\n",
    "        reco_prefix = ''\n",
    "\n",
    "        for k, v in truth_tree.items():\n",
    "            if not k.startswith(truth_prefix):\n",
    "                continue\n",
    "            truth_jagged_dict[k[len(truth_prefix):]] = v.array()\n",
    "        \n",
    "        for k, v in reco_tree.items():\n",
    "            if not k.startswith(reco_prefix):\n",
    "                continue\n",
    "            reco_jagged_dict[k[len(reco_prefix):]] = v.array()\n",
    "        \n",
    "        truth_jagged_dict['truth_vtxID'] = truth_jagged_dict.pop('vtxID')\n",
    "        reco_jagged_dict['amvf_vtxID'] = reco_jagged_dict.pop('vtxID')\n",
    "\n",
    "        for n in tqdm(range(len(truth_tree[0].array()))):\n",
    "            truth_df_dict = {k: truth_jagged_dict[k][n] for k in truth_jagged_dict.keys()}\n",
    "            reco_df_dict = {l: reco_jagged_dict[l][n] for l in reco_jagged_dict.keys()}\n",
    "            \n",
    "            truth_flat_event = pd.DataFrame(truth_df_dict)\n",
    "            reco_flat_event = pd.DataFrame(reco_df_dict)\n",
    "            truth_flat_event['truth_semantic_label'] = [1] * len(truth_flat_event)\n",
    "            truth_flat_event['x0'] = truth_flat_event['d0'] * np.cos(truth_flat_event['phi'] )\n",
    "            truth_flat_event['y0'] = truth_flat_event['d0'] * np.sin(truth_flat_event['phi'] )\n",
    "\n",
    "            # Add truth vtx weights \n",
    "            # truth_vtx_sumpt2 = np.bincount(truth_flat_event['truth_vtxID'], weights=((1.0/truth_flat_event['qp'])**2))\n",
    "            # truth_vtx_sumpt2 = truth_vtx_sumpt2 / truth_vtx_sumpt2.sum() # normalization \n",
    "            # truth_flat_event['truth_vtx_weight'] = truth_vtx_sumpt2[truth_flat_event['truth_vtxID']] # attach to the DataFrame\n",
    "            \n",
    "            # Attach amvf reco vtx labels to the flat event  \n",
    "            # conterpart is pf_sem_labels and pf_ins_labels\n",
    "            match_idx = get_match_idx(truth_flat_event, reco_flat_event)\n",
    "            truth_flat_event['reco_AMVF_vtxID'] = match_idx\n",
    "            truth_flat_event['reco_semantic_label'] = [1] * len(truth_flat_event)\n",
    "            \n",
    "            # For those vtx considered as outliers by amvf, set the reco_semantic_label to 0. \n",
    "            idx_not_found = truth_flat_event['reco_AMVF_vtxID'] == -1\n",
    "            truth_flat_event.loc[idx_not_found,'reco_semantic_label'] = [0]*len(truth_flat_event.loc[idx_not_found,'reco_semantic_label'])\n",
    "            truth_flat_event.dropna(inplace=True) # For some cases the \n",
    "\n",
    "            truth_flat_event.to_pickle(raw_data_dir / f'event_{n+ni:05}.pkl')\n",
    "        ni += n + 1"
   ]
  }
 ],
 "metadata": {
  "kernelspec": {
   "display_name": "ml",
   "language": "python",
   "name": "python3"
  },
  "language_info": {
   "codemirror_mode": {
    "name": "ipython",
    "version": 3
   },
   "file_extension": ".py",
   "mimetype": "text/x-python",
   "name": "python",
   "nbconvert_exporter": "python",
   "pygments_lexer": "ipython3",
   "version": "3.10.10"
  },
  "orig_nbformat": 4
 },
 "nbformat": 4,
 "nbformat_minor": 2
}
